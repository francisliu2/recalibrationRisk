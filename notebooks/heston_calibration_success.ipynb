{
 "cells": [
  {
   "cell_type": "code",
   "execution_count": 2,
   "metadata": {},
   "outputs": [
    {
     "data": {
      "text/html": [
       "        <script type=\"text/javascript\">\n",
       "        window.PlotlyConfig = {MathJaxConfig: 'local'};\n",
       "        if (window.MathJax) {MathJax.Hub.Config({SVG: {font: \"STIX-Web\"}});}\n",
       "        if (typeof require !== 'undefined') {\n",
       "        require.undef(\"plotly\");\n",
       "        requirejs.config({\n",
       "            paths: {\n",
       "                'plotly': ['https://cdn.plot.ly/plotly-latest.min']\n",
       "            }\n",
       "        });\n",
       "        require(['plotly'], function(Plotly) {\n",
       "            window._Plotly = Plotly;\n",
       "        });\n",
       "        }\n",
       "        </script>\n",
       "        "
      ]
     },
     "metadata": {},
     "output_type": "display_data"
    },
    {
     "name": "stdout",
     "output_type": "stream",
     "text": [
      "         0\n",
      "0 34.98775\n"
     ]
    }
   ],
   "source": [
    "import sys\n",
    "# Add the calibration folder path to the sys.path list\n",
    "sys.path.append('../calibration')\n",
    "\n",
    "from calibration import *\n",
    "from tools import *\n",
    "pd.set_option('display.float_format', lambda x: '%.5f' % x) # pickle_in = open(\"../data/cleaned_data\",\"rb\")\n",
    "np.set_printoptions(precision=4, suppress=True)\n",
    "import pickle"
   ]
  },
  {
   "cell_type": "code",
   "execution_count": 3,
   "metadata": {},
   "outputs": [
    {
     "name": "stdout",
     "output_type": "stream",
     "text": [
      "\u001b[01;34m../data\u001b[00m\r\n",
      "├── \u001b[01;34mRAW\u001b[00m\r\n",
      "├── US_yieldCurve_interpolatedFunction\r\n",
      "├── \u001b[01;34m__pycache__\u001b[00m\r\n",
      "│   └── get_US_yieldCurve.cpython-37.pyc\r\n",
      "├── cleaned_data\r\n",
      "├── explore.ipynb\r\n",
      "├── get_US_yieldCurve.py\r\n",
      "├── \u001b[01;34moptionm_SPX_1996-2019\u001b[00m\r\n",
      "├── \u001b[01;31moptionm_SPX_1996-2019.zip\u001b[00m\r\n",
      "├── optionm_opprcd_SPX_1996-2017.csv\r\n",
      "├── sp500index.csv\r\n",
      "├── standopt.csv\r\n",
      "├── \u001b[01;31mstandopt.zip\u001b[00m\r\n",
      "├── volsurf.csv\r\n",
      "└── \u001b[01;31mvolsurf.zip\u001b[00m\r\n",
      "\r\n",
      "3 directories, 12 files\r\n"
     ]
    }
   ],
   "source": [
    "!tree ../data"
   ]
  },
  {
   "cell_type": "code",
   "execution_count": 175,
   "metadata": {},
   "outputs": [
    {
     "name": "stdout",
     "output_type": "stream",
     "text": [
      "libc++abi.dylib: terminating with uncaught exception of type std::runtime_error: Couldn't close file\r\n"
     ]
    },
    {
     "ename": "FileNotFoundError",
     "evalue": "[Errno 2] No such file or directory: './cleaned_data'",
     "output_type": "error",
     "traceback": [
      "\u001b[0;31m---------------------------------------------------------------------------\u001b[0m",
      "\u001b[0;31mFileNotFoundError\u001b[0m                         Traceback (most recent call last)",
      "\u001b[0;32m<ipython-input-175-e44bf1c53baf>\u001b[0m in \u001b[0;36m<module>\u001b[0;34m\u001b[0m\n\u001b[1;32m     10\u001b[0m \u001b[0;31m# Download from HU box\u001b[0m\u001b[0;34m\u001b[0m\u001b[0;34m\u001b[0m\u001b[0;34m\u001b[0m\u001b[0m\n\u001b[1;32m     11\u001b[0m \u001b[0mget_ipython\u001b[0m\u001b[0;34m(\u001b[0m\u001b[0;34m)\u001b[0m\u001b[0;34m.\u001b[0m\u001b[0msystem\u001b[0m\u001b[0;34m(\u001b[0m\u001b[0;34m'wget https://box.hu-berlin.de/f/7e9fe82306824965a393/?dl=1 -O cleaned_data'\u001b[0m\u001b[0;34m)\u001b[0m\u001b[0;34m\u001b[0m\u001b[0;34m\u001b[0m\u001b[0m\n\u001b[0;32m---> 12\u001b[0;31m \u001b[0mpickle_in\u001b[0m \u001b[0;34m=\u001b[0m \u001b[0mopen\u001b[0m\u001b[0;34m(\u001b[0m\u001b[0;34m\"./cleaned_data\"\u001b[0m\u001b[0;34m,\u001b[0m\u001b[0;34m\"rb\"\u001b[0m\u001b[0;34m)\u001b[0m\u001b[0;34m\u001b[0m\u001b[0;34m\u001b[0m\u001b[0m\n\u001b[0m\u001b[1;32m     13\u001b[0m \u001b[0mdata_raw\u001b[0m \u001b[0;34m=\u001b[0m \u001b[0mpickle\u001b[0m\u001b[0;34m.\u001b[0m\u001b[0mload\u001b[0m\u001b[0;34m(\u001b[0m\u001b[0mpickle_in\u001b[0m\u001b[0;34m)\u001b[0m\u001b[0;34m\u001b[0m\u001b[0;34m\u001b[0m\u001b[0m\n\u001b[1;32m     14\u001b[0m \u001b[0mpickle_in\u001b[0m\u001b[0;34m.\u001b[0m\u001b[0mclose\u001b[0m\u001b[0;34m(\u001b[0m\u001b[0;34m)\u001b[0m\u001b[0;34m\u001b[0m\u001b[0;34m\u001b[0m\u001b[0m\n",
      "\u001b[0;31mFileNotFoundError\u001b[0m: [Errno 2] No such file or directory: './cleaned_data'"
     ]
    }
   ],
   "source": [
    "# # Local\n",
    "# pickle_in = open(\"../data/cleaned_data\",\"rb\")\n",
    "# data_raw = pickle.load(pickle_in)\n",
    "# pickle_in.close()\n",
    "\n",
    "# pickle_in = open(\"../data/US_yieldCurve_interpolatedFunction\",\"rb\")\n",
    "# yieldCurve = pickle.load(pickle_in)\n",
    "# pickle_in.close()\n",
    "\n",
    "# Download from HU box\n",
    "!wget https://box.hu-berlin.de/f/7e9fe82306824965a393/?dl=1 -O cleaned_data\n",
    "pickle_in = open(\"./cleaned_data\",\"rb\")\n",
    "data_raw = pickle.load(pickle_in)\n",
    "pickle_in.close()\n",
    "\n",
    "\n",
    "!wget https://box.hu-berlin.de/f/d307410a63a9436eaf63/?dl=1 -O US_yieldCurve_interpolatedFunction\n",
    "pickle_in = open(\"./US_yieldCurve_interpolatedFunction\",\"rb\")\n",
    "yieldCurve = pickle.load(pickle_in)\n",
    "pickle_in.close()"
   ]
  },
  {
   "cell_type": "markdown",
   "metadata": {},
   "source": [
    "## Check if the Heston Pricing Code\n",
    "The Heston pricing code in this project should match with the calibration reuslt in the Mayer paper provided by Prof. Packham."
   ]
  },
  {
   "cell_type": "code",
   "execution_count": 13,
   "metadata": {},
   "outputs": [
    {
     "name": "stdout",
     "output_type": "stream",
     "text": [
      "Parameters in Mayer paper:\n",
      "spot vol: 0.013681\n",
      "mean reversion: 1.605179\n",
      "long term mean of vol: 0.053318\n",
      "correclation: -0.6201\n",
      "vol of vol: 0.590506\n"
     ]
    }
   ],
   "source": [
    "parameters_name = ['spot vol', 'mean reversion', 'long term mean of vol', 'correclation', 'vol of vol']\n",
    "\n",
    "print('Parameters in Mayer paper:')\n",
    "\n",
    "for i in list(zip(parameters_name, par_1)):\n",
    "    print(i[0]+\":\", i[1])"
   ]
  },
  {
   "cell_type": "code",
   "execution_count": 133,
   "metadata": {
    "scrolled": true
   },
   "outputs": [],
   "source": [
    "HS_price = call_price_HS(0.75, BS_price_1.S, BS_price_1.K, BS_price_1.Tau,0,par_1)"
   ]
  },
  {
   "cell_type": "code",
   "execution_count": 134,
   "metadata": {},
   "outputs": [],
   "source": [
    "result = pd.concat([BS_price_1, HS_price], axis=1)\n",
    "result.columns = ['Tau', 'K', 'BS_price', 'S', 'r', 'HS_price']"
   ]
  },
  {
   "cell_type": "code",
   "execution_count": 135,
   "metadata": {},
   "outputs": [
    {
     "data": {
      "text/plain": [
       "<matplotlib.legend.Legend at 0x1a59de0f10>"
      ]
     },
     "execution_count": 135,
     "metadata": {},
     "output_type": "execute_result"
    },
    {
     "data": {
      "image/png": "[encoded data removed]",
      "text/plain": [
       "<Figure size 720x360 with 1 Axes>"
      ]
     },
     "metadata": {
      "needs_background": "light"
     },
     "output_type": "display_data"
    }
   ],
   "source": [
    "fig = plt.figure(figsize=(10,5))\n",
    "ax = fig.add_subplot(111)\n",
    "\n",
    "ax.scatter(result['K'], \n",
    "           result['BS_price'], marker='o', color='b', label = 'market data')\n",
    "\n",
    "ax.scatter(result['K'], \n",
    "           result['HS_price'], marker='x', color='r', label = 'calibration result')\n",
    "\n",
    "ax.set(xlabel='strike (moneyness)', ylabel='Market Price', \n",
    "       title='Call prices derived from implied volatilities on S&P 500 on 15 May 2013')\n",
    "\n",
    "ax.legend()"
   ]
  },
  {
   "cell_type": "markdown",
   "metadata": {},
   "source": [
    "The code works fine. (At least same to Mayer paper)"
   ]
  },
  {
   "cell_type": "markdown",
   "metadata": {},
   "source": [
    "## Calibrate on Real Option Data\n",
    "- We calibrate on 20130515's call option data\n",
    "- The target is the mid price"
   ]
  },
  {
   "cell_type": "code",
   "execution_count": 18,
   "metadata": {},
   "outputs": [],
   "source": [
    "# Slice data\n",
    "date_string = '20130515'\n",
    "data = slice_data(data_raw, date=date_string)\n",
    "data = data.iloc[:,:-4] # Remove unwanted columns"
   ]
  },
  {
   "cell_type": "code",
   "execution_count": 19,
   "metadata": {},
   "outputs": [],
   "source": [
    "# Get the coresponding interest rate by yield curve (detail please see get_yield_curve.ipynb)\n",
    "data.loc[:,'yield'] = data.t2m.apply(lambda x: yieldCurve[date_string](x))"
   ]
  },
  {
   "cell_type": "code",
   "execution_count": 41,
   "metadata": {},
   "outputs": [
    {
     "data": {
      "text/html": [
       "<div>\n",
       "<style scoped>\n",
       "    .dataframe tbody tr th:only-of-type {\n",
       "        vertical-align: middle;\n",
       "    }\n",
       "\n",
       "    .dataframe tbody tr th {\n",
       "        vertical-align: top;\n",
       "    }\n",
       "\n",
       "    .dataframe thead th {\n",
       "        text-align: right;\n",
       "    }\n",
       "</style>\n",
       "<table border=\"1\" class=\"dataframe\">\n",
       "  <thead>\n",
       "    <tr style=\"text-align: right;\">\n",
       "      <th></th>\n",
       "      <th>date</th>\n",
       "      <th>cp_flag</th>\n",
       "      <th>strike_price</th>\n",
       "      <th>best_bid</th>\n",
       "      <th>best_offer</th>\n",
       "      <th>volume</th>\n",
       "      <th>impl_volatility</th>\n",
       "      <th>t2m</th>\n",
       "      <th>Adj Close</th>\n",
       "      <th>yield</th>\n",
       "    </tr>\n",
       "  </thead>\n",
       "  <tbody>\n",
       "    <tr>\n",
       "      <td>4288037</td>\n",
       "      <td>20130515</td>\n",
       "      <td>C</td>\n",
       "      <td>1600000</td>\n",
       "      <td>57.40000</td>\n",
       "      <td>60.00000</td>\n",
       "      <td>21364</td>\n",
       "      <td>0.23389</td>\n",
       "      <td>0.00822</td>\n",
       "      <td>1658.78003</td>\n",
       "      <td>0.00080</td>\n",
       "    </tr>\n",
       "    <tr>\n",
       "      <td>4288042</td>\n",
       "      <td>20130515</td>\n",
       "      <td>C</td>\n",
       "      <td>1625000</td>\n",
       "      <td>32.80000</td>\n",
       "      <td>35.40000</td>\n",
       "      <td>6920</td>\n",
       "      <td>0.23621</td>\n",
       "      <td>0.00822</td>\n",
       "      <td>1658.78003</td>\n",
       "      <td>0.00080</td>\n",
       "    </tr>\n",
       "    <tr>\n",
       "      <td>4288043</td>\n",
       "      <td>20130515</td>\n",
       "      <td>C</td>\n",
       "      <td>1630000</td>\n",
       "      <td>28.00000</td>\n",
       "      <td>30.60000</td>\n",
       "      <td>1594</td>\n",
       "      <td>0.22651</td>\n",
       "      <td>0.00822</td>\n",
       "      <td>1658.78003</td>\n",
       "      <td>0.00080</td>\n",
       "    </tr>\n",
       "    <tr>\n",
       "      <td>4288044</td>\n",
       "      <td>20130515</td>\n",
       "      <td>C</td>\n",
       "      <td>1635000</td>\n",
       "      <td>23.40000</td>\n",
       "      <td>25.80000</td>\n",
       "      <td>4512</td>\n",
       "      <td>0.21669</td>\n",
       "      <td>0.00822</td>\n",
       "      <td>1658.78003</td>\n",
       "      <td>0.00080</td>\n",
       "    </tr>\n",
       "    <tr>\n",
       "      <td>4288045</td>\n",
       "      <td>20130515</td>\n",
       "      <td>C</td>\n",
       "      <td>1640000</td>\n",
       "      <td>19.20000</td>\n",
       "      <td>21.00000</td>\n",
       "      <td>2480</td>\n",
       "      <td>0.20929</td>\n",
       "      <td>0.00822</td>\n",
       "      <td>1658.78003</td>\n",
       "      <td>0.00080</td>\n",
       "    </tr>\n",
       "  </tbody>\n",
       "</table>\n",
       "</div>"
      ],
      "text/plain": [
       "             date cp_flag  strike_price  best_bid  best_offer  volume  \\\n",
       "4288037  20130515       C       1600000  57.40000    60.00000   21364   \n",
       "4288042  20130515       C       1625000  32.80000    35.40000    6920   \n",
       "4288043  20130515       C       1630000  28.00000    30.60000    1594   \n",
       "4288044  20130515       C       1635000  23.40000    25.80000    4512   \n",
       "4288045  20130515       C       1640000  19.20000    21.00000    2480   \n",
       "\n",
       "         impl_volatility     t2m  Adj Close   yield  \n",
       "4288037          0.23389 0.00822 1658.78003 0.00080  \n",
       "4288042          0.23621 0.00822 1658.78003 0.00080  \n",
       "4288043          0.22651 0.00822 1658.78003 0.00080  \n",
       "4288044          0.21669 0.00822 1658.78003 0.00080  \n",
       "4288045          0.20929 0.00822 1658.78003 0.00080  "
      ]
     },
     "execution_count": 41,
     "metadata": {},
     "output_type": "execute_result"
    }
   ],
   "source": [
    "data.head()"
   ]
  },
  {
   "cell_type": "code",
   "execution_count": 20,
   "metadata": {},
   "outputs": [],
   "source": [
    "# Mid Price \n",
    "mid_price = (data.best_offer + data.best_bid)/2"
   ]
  },
  {
   "cell_type": "code",
   "execution_count": 45,
   "metadata": {},
   "outputs": [],
   "source": [
    "# Define loss function\n",
    "def lossfunction(par, target_price, S, K, Tau, r, volume):\n",
    "    v0, kappa, theta, rho, vol_vol = par\n",
    "    \n",
    "    # Give large loss to parameters that out of range\n",
    "    if v0 < 0.0  or \\\n",
    "       kappa < 0.0 or \\\n",
    "       theta < 0.0 or \\\n",
    "       rho < -1.0 or \\\n",
    "       rho > 1.0 or \\\n",
    "       vol_vol < 0.0 :\n",
    "#         print('parameters hit bound')\n",
    "        return 500000.0\n",
    "\n",
    "\n",
    "    # Feller Condition, comment out at this moment because Mayer's result does not follow\n",
    "#     if 2 * kappa * theta <= vol_vol ** 2: \n",
    "#         print('Fella')\n",
    "#         return 5000.0\n",
    "    \n",
    "    # Apply weight \n",
    "    weight_volume = volume/np.sum(volume)\n",
    "\n",
    "    # Calculate Heston price\n",
    "    HS_price = call_price_HS(0.75, S, K, Tau, r, par)\n",
    "\n",
    "    # Absolute difference in percentage weighted by trading volume\n",
    "    loss = np.sum(np.abs((target_price - HS_price)/target_price)* weight_volume) \n",
    "\n",
    "    return loss"
   ]
  },
  {
   "cell_type": "code",
   "execution_count": 23,
   "metadata": {},
   "outputs": [],
   "source": [
    "weight_volume = data.volume/np.sum(data.volume)"
   ]
  },
  {
   "cell_type": "code",
   "execution_count": 46,
   "metadata": {
    "scrolled": true
   },
   "outputs": [
    {
     "name": "stdout",
     "output_type": "stream",
     "text": [
      "Loss of using Mayer paper's calibration result to price real world data 0.4454806093944067\n"
     ]
    }
   ],
   "source": [
    "# Loss of using Mayer paper's calibration result to price real world data\n",
    "Mayer_realOption_loss = lossfunction(par_1, mid_price,\n",
    "             data.loc[:,'Adj Close'],\n",
    "             data.loc[:,'strike_price']/1000,\n",
    "             data.loc[:,'t2m'],\n",
    "             data.loc[:,'yield'], \n",
    "             data.volume)\n",
    "\n",
    "print(\"Loss of using Mayer paper's calibration result to price real world data\",Mayer_realOption_loss)"
   ]
  },
  {
   "cell_type": "markdown",
   "metadata": {},
   "source": [
    "## Optimize with zero interest rate\n",
    "- The reason of calibrating Heston model with zero interest rate is that it is also used in Mayer paper \n",
    "- Calibration with interest rate according US yield curve is in the next session"
   ]
  },
  {
   "cell_type": "code",
   "execution_count": 47,
   "metadata": {},
   "outputs": [],
   "source": [
    "lossfunction2opt = partial(lossfunction, target_price = mid_price,\n",
    "                           S=data.loc[:,'Adj Close'],\n",
    "                           K=data.loc[:,'strike_price']/1000,\n",
    "                           Tau=data.loc[:,'t2m'],\n",
    "                           r=0, # 0 risk free rate\n",
    "#                            r=data.loc[:,'yield'], # With risk free rate according to yield curve\n",
    "                           volume=data.volume)"
   ]
  },
  {
   "cell_type": "code",
   "execution_count": 59,
   "metadata": {},
   "outputs": [],
   "source": [
    "# Use brute force to find a good starting simplex for the later Nelder-Mead simplex algorithm\n",
    "p0 = brute(lossfunction2opt,\n",
    "           (\n",
    "               (0.01, 0.031, 0.01),    # v0\n",
    "               (2.5, 10.6, 5.0),  # kappa\n",
    "               (0.01, 0.041, 0.01),  # theta\n",
    "               (-0.75, 0.01, 0.25),  # rho\n",
    "               (0.05, 0.251, 0.1)  # vol_vol\n",
    "           ), \n",
    "           finish=None)"
   ]
  },
  {
   "cell_type": "code",
   "execution_count": 61,
   "metadata": {},
   "outputs": [
    {
     "data": {
      "text/plain": [
       "array([ 0.01,  2.5 ,  0.02, -0.5 ,  0.05])"
      ]
     },
     "execution_count": 61,
     "metadata": {},
     "output_type": "execute_result"
    }
   ],
   "source": [
    "# Gloabl Min\n",
    "p0"
   ]
  },
  {
   "cell_type": "code",
   "execution_count": 62,
   "metadata": {
    "scrolled": true
   },
   "outputs": [
    {
     "name": "stdout",
     "output_type": "stream",
     "text": [
      "Warning: Maximum number of function evaluations has been exceeded.\n"
     ]
    }
   ],
   "source": [
    "# p0 = np.array([ 0.01,  2.5 ,  0.02, -0.5,  0.25]) # v0, kappa, theta, rho, vol_vol \n",
    "# p0 = par_1 # From Mayer Paper\n",
    "opt = fmin(lossfunction2opt, p0,\n",
    "           xtol=0.000001, ftol=0.000001,\n",
    "           maxiter=750, maxfun=900)"
   ]
  },
  {
   "cell_type": "code",
   "execution_count": 63,
   "metadata": {},
   "outputs": [
    {
     "name": "stdout",
     "output_type": "stream",
     "text": [
      "[ 0.0082  7.3984  0.0172 -0.7308  0.0548]\n"
     ]
    }
   ],
   "source": [
    "# v0, kappa, theta, rho, vol_vol = par\n",
    "print(opt)"
   ]
  },
  {
   "cell_type": "code",
   "execution_count": 64,
   "metadata": {},
   "outputs": [
    {
     "name": "stdout",
     "output_type": "stream",
     "text": [
      "[ 0.0137  1.6052  0.0533 -0.6201  0.5905]\n"
     ]
    }
   ],
   "source": [
    "print(np.array(par_1))"
   ]
  },
  {
   "cell_type": "code",
   "execution_count": 86,
   "metadata": {},
   "outputs": [
    {
     "name": "stdout",
     "output_type": "stream",
     "text": [
      "0.0735\n"
     ]
    }
   ],
   "source": [
    "# Loss of this calibration result to price real world data\n",
    "loss_1 = lossfunction(opt, mid_price,\n",
    "             data.loc[:,'Adj Close'],\n",
    "             data.loc[:,'strike_price']/1000,\n",
    "             data.loc[:,'t2m'],\n",
    "             0,\n",
    "#              data.loc[:,'yield'], \n",
    "             data.volume)\n",
    "print(round(loss_1,4))"
   ]
  },
  {
   "cell_type": "code",
   "execution_count": 87,
   "metadata": {},
   "outputs": [
    {
     "name": "stdout",
     "output_type": "stream",
     "text": [
      "0.1834\n"
     ]
    }
   ],
   "source": [
    "# Loss of using Mayer paper's calibration result to price real world data\n",
    "loss_2 = lossfunction(par_1, mid_price,\n",
    "             data.loc[:,'Adj Close'],\n",
    "             data.loc[:,'strike_price']/1000,\n",
    "             data.loc[:,'t2m'],\n",
    "             0,\n",
    "#              data.loc[:,'yield'], \n",
    "             data.volume)\n",
    "print(round(loss_2,4))"
   ]
  },
  {
   "cell_type": "code",
   "execution_count": 66,
   "metadata": {},
   "outputs": [],
   "source": [
    "# Option price with this calibration result\n",
    "HS_price_1 = call_price_HS(0.75, \n",
    "                         data.loc[:,'Adj Close'],\n",
    "                         data.loc[:,'strike_price']/1000,\n",
    "                         data.loc[:,'t2m'],\n",
    "                         0,\n",
    "#                          data.loc[:,'yield'],\n",
    "                         opt)"
   ]
  },
  {
   "cell_type": "code",
   "execution_count": 71,
   "metadata": {
    "scrolled": true
   },
   "outputs": [
    {
     "data": {
      "image/png": "[encoded data removed]",
      "text/plain": [
       "<Figure size 720x360 with 1 Axes>"
      ]
     },
     "metadata": {
      "needs_background": "light"
     },
     "output_type": "display_data"
    }
   ],
   "source": [
    "plot_result(data.loc[:,'strike_price']/1000, HS_price=HS_price_1, target_price=mid_price)"
   ]
  },
  {
   "cell_type": "code",
   "execution_count": 72,
   "metadata": {},
   "outputs": [],
   "source": [
    "# Option price with Mayer paper calibration result\n",
    "HS_price_2 = call_price_HS(0.75, \n",
    "                         data.loc[:,'Adj Close'],\n",
    "                         data.loc[:,'strike_price']/1000,\n",
    "                         data.loc[:,'t2m'],\n",
    "                         0,\n",
    "#                          data.loc[:,'yield'],\n",
    "                           par_1) "
   ]
  },
  {
   "cell_type": "code",
   "execution_count": 73,
   "metadata": {},
   "outputs": [
    {
     "data": {
      "image/png": "[encoded data removed]",
      "text/plain": [
       "<Figure size 720x360 with 1 Axes>"
      ]
     },
     "metadata": {
      "needs_background": "light"
     },
     "output_type": "display_data"
    }
   ],
   "source": [
    "plot_result(data.loc[:,'strike_price']/1000, HS_price=HS_price_2, target_price=mid_price)"
   ]
  },
  {
   "cell_type": "markdown",
   "metadata": {},
   "source": [
    "## Optimize with interest rate from US yield curve\n",
    "- Interest rate is obtained from interpolation of US yield curve. Detail please see get_yield_curve.ipynb"
   ]
  },
  {
   "cell_type": "code",
   "execution_count": 75,
   "metadata": {},
   "outputs": [],
   "source": [
    "lossfunction2opt = partial(lossfunction, target_price = mid_price,\n",
    "                           S=data.loc[:,'Adj Close'],\n",
    "                           K=data.loc[:,'strike_price']/1000,\n",
    "                           Tau=data.loc[:,'t2m'],\n",
    "#                            r=0, # 0 risk free rate\n",
    "                           r=data.loc[:,'yield'], # With risk free rate according to yield curve\n",
    "                           volume=data.volume)"
   ]
  },
  {
   "cell_type": "code",
   "execution_count": 77,
   "metadata": {},
   "outputs": [],
   "source": [
    "p0_withInterest = brute(lossfunction2opt,\n",
    "           (\n",
    "               (0.01, 0.031, 0.01),    # v0\n",
    "               (2.5, 10.6, 5.0),  # kappa\n",
    "               (0.01, 0.041, 0.01),  # theta\n",
    "               (-0.75, 0.01, 0.25),  # rho\n",
    "               (0.05, 0.251, 0.1)  # vol_vol\n",
    "           ), \n",
    "           finish=None)"
   ]
  },
  {
   "cell_type": "code",
   "execution_count": 78,
   "metadata": {},
   "outputs": [
    {
     "data": {
      "text/plain": [
       "array([ 0.01,  2.5 ,  0.01, -0.25,  0.25])"
      ]
     },
     "execution_count": 78,
     "metadata": {},
     "output_type": "execute_result"
    }
   ],
   "source": [
    "# Gloabl Min\n",
    "p0_withInterest"
   ]
  },
  {
   "cell_type": "code",
   "execution_count": 79,
   "metadata": {},
   "outputs": [
    {
     "name": "stdout",
     "output_type": "stream",
     "text": [
      "Warning: Maximum number of function evaluations has been exceeded.\n"
     ]
    }
   ],
   "source": [
    "opt_withInterest = fmin(lossfunction2opt, p0_withInterest,\n",
    "           xtol=0.000001, ftol=0.000001,\n",
    "           maxiter=750, maxfun=900)"
   ]
  },
  {
   "cell_type": "code",
   "execution_count": 88,
   "metadata": {},
   "outputs": [
    {
     "name": "stdout",
     "output_type": "stream",
     "text": [
      "0.1692\n"
     ]
    }
   ],
   "source": [
    "# Loss of this calibration result to price real world data\n",
    "loss_3 = lossfunction(opt_withInterest, mid_price,\n",
    "             data.loc[:,'Adj Close'],\n",
    "             data.loc[:,'strike_price']/1000,\n",
    "             data.loc[:,'t2m'],\n",
    "#              0,\n",
    "             data.loc[:,'yield'], \n",
    "             data.volume)\n",
    "print(round(loss_3,4))"
   ]
  },
  {
   "cell_type": "code",
   "execution_count": 89,
   "metadata": {},
   "outputs": [
    {
     "name": "stdout",
     "output_type": "stream",
     "text": [
      "0.4455\n"
     ]
    }
   ],
   "source": [
    "# Loss of using Mayer paper's calibration result to price real world data\n",
    "loss_4 = lossfunction(par_1, mid_price,\n",
    "             data.loc[:,'Adj Close'],\n",
    "             data.loc[:,'strike_price']/1000,\n",
    "             data.loc[:,'t2m'],\n",
    "#              0,\n",
    "             data.loc[:,'yield'], \n",
    "             data.volume)\n",
    "print(round(loss_4,4))"
   ]
  },
  {
   "cell_type": "code",
   "execution_count": 81,
   "metadata": {},
   "outputs": [],
   "source": [
    "# Option price with this calibration result\n",
    "HS_price_3 = call_price_HS(0.75, \n",
    "                         data.loc[:,'Adj Close'],\n",
    "                         data.loc[:,'strike_price']/1000,\n",
    "                         data.loc[:,'t2m'],\n",
    "#                          0,\n",
    "                         data.loc[:,'yield'],\n",
    "                         opt_withInterest)"
   ]
  },
  {
   "cell_type": "code",
   "execution_count": 82,
   "metadata": {},
   "outputs": [
    {
     "data": {
      "image/png": "[encoded data removed]",
      "text/plain": [
       "<Figure size 720x360 with 1 Axes>"
      ]
     },
     "metadata": {
      "needs_background": "light"
     },
     "output_type": "display_data"
    }
   ],
   "source": [
    "plot_result(data.loc[:,'strike_price']/1000, HS_price=HS_price_3, target_price=mid_price)"
   ]
  },
  {
   "cell_type": "code",
   "execution_count": 142,
   "metadata": {},
   "outputs": [],
   "source": [
    "# Option price with Mayer paper calibration result\n",
    "HS_price_4 = call_price_HS(0.75, \n",
    "                         data.loc[:,'Adj Close'],\n",
    "                         data.loc[:,'strike_price']/1000,\n",
    "                         data.loc[:,'t2m'],\n",
    "#                          0,\n",
    "                         data.loc[:,'yield'],\n",
    "                           par_1) "
   ]
  },
  {
   "cell_type": "code",
   "execution_count": 143,
   "metadata": {},
   "outputs": [
    {
     "data": {
      "image/png": "[encoded data removed]",
      "text/plain": [
       "<Figure size 720x360 with 1 Axes>"
      ]
     },
     "metadata": {
      "needs_background": "light"
     },
     "output_type": "display_data"
    }
   ],
   "source": [
    "plot_result(data.loc[:,'strike_price']/1000, HS_price=HS_price_4, target_price=mid_price)"
   ]
  },
  {
   "cell_type": "markdown",
   "metadata": {},
   "source": [
    "## Compare to the data used by Mayer paper\n",
    "- The data used by Mayer paper is from Bloomberg volatility surface.\n",
    "- The volatility surface is normalised to spot price = 1. \n",
    "- We plug the optimization result without interest rate to the call price function so to see if the calibration result calibrated to real data match with the normalised data. "
   ]
  },
  {
   "cell_type": "code",
   "execution_count": 144,
   "metadata": {},
   "outputs": [],
   "source": [
    "HS_price_0 = call_price_HS(0.75, BS_price_1.S, BS_price_1.K, BS_price_1.Tau,0,opt)"
   ]
  },
  {
   "cell_type": "code",
   "execution_count": 145,
   "metadata": {},
   "outputs": [
    {
     "data": {
      "image/png": "[encoded data removed]",
      "text/plain": [
       "<Figure size 720x360 with 1 Axes>"
      ]
     },
     "metadata": {
      "needs_background": "light"
     },
     "output_type": "display_data"
    }
   ],
   "source": [
    "plot_result(result.K, HS_price=HS_price_0, target_price=result.BS_price)"
   ]
  },
  {
   "cell_type": "code",
   "execution_count": 157,
   "metadata": {},
   "outputs": [
    {
     "name": "stderr",
     "output_type": "stream",
     "text": [
      "/Users/francis/opt/anaconda3/lib/python3.7/site-packages/ipykernel_launcher.py:1: SettingWithCopyWarning:\n",
      "\n",
      "\n",
      "A value is trying to be set on a copy of a slice from a DataFrame\n",
      "\n",
      "See the caveats in the documentation: http://pandas.pydata.org/pandas-docs/stable/user_guide/indexing.html#returning-a-view-versus-a-copy\n",
      "\n"
     ]
    }
   ],
   "source": [
    "result.BS_price[result.BS_price == 0] = 0.0001"
   ]
  },
  {
   "cell_type": "code",
   "execution_count": 158,
   "metadata": {},
   "outputs": [
    {
     "name": "stdout",
     "output_type": "stream",
     "text": [
      "407780.4828\n"
     ]
    }
   ],
   "source": [
    "loss_0 = lossfunction(opt,\n",
    "                      result.BS_price,\n",
    "                      BS_price_1.S,\n",
    "                      BS_price_1.K, \n",
    "                      BS_price_1.Tau,\n",
    "                      0,\n",
    "                      1)\n",
    "print(round(loss_0,4))"
   ]
  },
  {
   "cell_type": "markdown",
   "metadata": {},
   "source": [
    "## Conclusion\n",
    "1. Interest Rate obtained by interpolation of US yield curve cannot improve loss in this calibration setting \n",
    "2. This NB's calibration results do not agree with the calibration result in Mayer paper, especially in kappa and theta. "
   ]
  },
  {
   "cell_type": "code",
   "execution_count": 163,
   "metadata": {},
   "outputs": [],
   "source": [
    "result = pd.DataFrame(zip(['With Interest Rate']+par_names+['Absolute Loss '],\n",
    "                 ['No']+list(opt)+[loss_1],\n",
    "                 ['No']+list(par_1)+[loss_2],\n",
    "                 ['Yes']+list(opt_withInterest)+[loss_3], \n",
    "                 ['Yes']+list(par_1)+[loss_4]))#, zip(par_names, par_1))\n",
    "result.set_index(0, drop=True, inplace=True)\n",
    "result.columns = ['NB Result', 'Mayer Paper Result','NB Result', 'Mayer Paper Result' ]"
   ]
  },
  {
   "cell_type": "code",
   "execution_count": 164,
   "metadata": {},
   "outputs": [
    {
     "data": {
      "text/html": [
       "<div>\n",
       "<style scoped>\n",
       "    .dataframe tbody tr th:only-of-type {\n",
       "        vertical-align: middle;\n",
       "    }\n",
       "\n",
       "    .dataframe tbody tr th {\n",
       "        vertical-align: top;\n",
       "    }\n",
       "\n",
       "    .dataframe thead th {\n",
       "        text-align: right;\n",
       "    }\n",
       "</style>\n",
       "<table border=\"1\" class=\"dataframe\">\n",
       "  <thead>\n",
       "    <tr style=\"text-align: right;\">\n",
       "      <th></th>\n",
       "      <th>NB Result</th>\n",
       "      <th>Mayer Paper Result</th>\n",
       "      <th>NB Result</th>\n",
       "      <th>Mayer Paper Result</th>\n",
       "    </tr>\n",
       "    <tr>\n",
       "      <th>0</th>\n",
       "      <th></th>\n",
       "      <th></th>\n",
       "      <th></th>\n",
       "      <th></th>\n",
       "    </tr>\n",
       "  </thead>\n",
       "  <tbody>\n",
       "    <tr>\n",
       "      <td>With Interest Rate</td>\n",
       "      <td>No</td>\n",
       "      <td>No</td>\n",
       "      <td>Yes</td>\n",
       "      <td>Yes</td>\n",
       "    </tr>\n",
       "    <tr>\n",
       "      <td>v0</td>\n",
       "      <td>0.00818</td>\n",
       "      <td>0.01368</td>\n",
       "      <td>0.01011</td>\n",
       "      <td>0.01368</td>\n",
       "    </tr>\n",
       "    <tr>\n",
       "      <td>kappa</td>\n",
       "      <td>7.39842</td>\n",
       "      <td>1.60518</td>\n",
       "      <td>0.00598</td>\n",
       "      <td>1.60518</td>\n",
       "    </tr>\n",
       "    <tr>\n",
       "      <td>theta</td>\n",
       "      <td>0.01716</td>\n",
       "      <td>0.05332</td>\n",
       "      <td>0.00995</td>\n",
       "      <td>0.05332</td>\n",
       "    </tr>\n",
       "    <tr>\n",
       "      <td>rho</td>\n",
       "      <td>-0.73084</td>\n",
       "      <td>-0.62010</td>\n",
       "      <td>-0.12359</td>\n",
       "      <td>-0.62010</td>\n",
       "    </tr>\n",
       "    <tr>\n",
       "      <td>vol_vol</td>\n",
       "      <td>0.05482</td>\n",
       "      <td>0.59051</td>\n",
       "      <td>0.39468</td>\n",
       "      <td>0.59051</td>\n",
       "    </tr>\n",
       "    <tr>\n",
       "      <td>Absolute Loss</td>\n",
       "      <td>0.07353</td>\n",
       "      <td>0.18337</td>\n",
       "      <td>0.16924</td>\n",
       "      <td>0.44548</td>\n",
       "    </tr>\n",
       "  </tbody>\n",
       "</table>\n",
       "</div>"
      ],
      "text/plain": [
       "                   NB Result Mayer Paper Result NB Result Mayer Paper Result\n",
       "0                                                                           \n",
       "With Interest Rate        No                 No       Yes                Yes\n",
       "v0                   0.00818            0.01368   0.01011            0.01368\n",
       "kappa                7.39842            1.60518   0.00598            1.60518\n",
       "theta                0.01716            0.05332   0.00995            0.05332\n",
       "rho                 -0.73084           -0.62010  -0.12359           -0.62010\n",
       "vol_vol              0.05482            0.59051   0.39468            0.59051\n",
       "Absolute Loss        0.07353            0.18337   0.16924            0.44548"
      ]
     },
     "execution_count": 164,
     "metadata": {},
     "output_type": "execute_result"
    }
   ],
   "source": [
    "result"
   ]
  },
  {
   "cell_type": "markdown",
   "metadata": {},
   "source": [
    "## Other stuffs"
   ]
  },
  {
   "cell_type": "code",
   "execution_count": 34,
   "metadata": {
    "scrolled": true
   },
   "outputs": [
    {
     "name": "stdout",
     "output_type": "stream",
     "text": [
      "         strike_price         0  volume     t2m   yield\n",
      "4288037      58.79201  58.70000   21364 0.00822 0.00080\n",
      "4288042      33.90286  34.10000    6920 0.00822 0.00080\n",
      "4288043      29.02562  29.30000    1594 0.00822 0.00080\n",
      "4288044      24.25980  24.60000    4512 0.00822 0.00080\n",
      "4288045      19.68136  20.10000    2480 0.00822 0.00080\n",
      "4288046      15.39447  15.85000    7511 0.00822 0.00080\n",
      "4288047      11.52374  11.55000   26907 0.00822 0.00080\n",
      "4288048       8.19309   8.10000    8012 0.00822 0.00080\n",
      "4288049       5.49404   4.90000   37447 0.00822 0.00080\n",
      "4288050       3.45548   2.70000   18449 0.00822 0.00080\n",
      "4288051       2.03137   1.45000   29801 0.00822 0.00080\n",
      "4288052       1.11494   0.80000   17157 0.00822 0.00080\n",
      "4288053       0.57196   0.52500    9966 0.00822 0.00080\n",
      "4288054       0.27500   0.27500    7644 0.00822 0.00080\n",
      "4288055       0.12440   0.15000     978 0.00822 0.00080\n",
      "4288057       0.02158   0.10000    6546 0.00822 0.00080\n",
      "4288062       0.00013   0.05000    1741 0.00822 0.00080\n",
      "4288332     310.62338 306.60000    4002 0.10411 0.01310\n",
      "4288352     210.82941 207.35000    8013 0.10411 0.01310\n",
      "4288373     112.03619 110.10000    4154 0.10411 0.01310\n",
      "4288383      65.04999  65.05000   21292 0.10411 0.01310\n",
      "4288387      47.70890  48.90000    1186 0.10411 0.01310\n",
      "4288388      43.60349  45.20000    1399 0.10411 0.01310\n",
      "4288391      32.07765  34.45000    1959 0.10411 0.01310\n",
      "4288392      28.56881  31.15000   11843 0.10411 0.01310\n",
      "4288393      25.26821  28.00000   38327 0.10411 0.01310\n",
      "4288394      22.20278  24.75000   13240 0.10411 0.01310\n",
      "4288395      19.39700  22.25000   27273 0.10411 0.01310\n",
      "4288396      16.86844  19.70000    1472 0.10411 0.01310\n",
      "4288397      14.62364  17.25000   14428 0.10411 0.01310\n",
      "4288398      12.65610  15.05000   20587 0.10411 0.01310\n",
      "4288399      10.94778  13.05000    8512 0.10411 0.01310\n",
      "4288400       9.47314  11.15000    6342 0.10411 0.01310\n",
      "4288401       8.20372   9.45000   16208 0.10411 0.01310\n",
      "4288402       7.11156   8.15000    3535 0.10411 0.01310\n",
      "4288403       6.17120   7.00000   24192 0.10411 0.01310\n",
      "4288404       5.36038   5.90000    1674 0.10411 0.01310\n",
      "4288405       4.66009   5.05000   17846 0.10411 0.01310\n",
      "4288408       3.07402   3.30000    5167 0.10411 0.01310\n",
      "4288410       2.33474   2.30000   12822 0.10411 0.01310\n",
      "4288411       2.03566   1.92500    1262 0.10411 0.01310\n",
      "4288413       1.54859   1.47500    5137 0.10411 0.01310\n",
      "4288424       0.20276   0.35000    2355 0.10411 0.01310\n",
      "4288749      51.69583  54.05000    2028 0.18082 0.02627\n",
      "4288754      32.82074  37.80000    2205 0.18082 0.02627\n",
      "4288757      23.60242  29.35000    7335 0.18082 0.02627\n",
      "4288759      18.71041  24.45000   10260 0.18082 0.02627\n",
      "4288762      13.28720  18.00000    1929 0.18082 0.02627\n",
      "4288764      10.70234  14.60000    4447 0.18082 0.02627\n",
      "4288769       6.48345   8.05000    2409 0.18082 0.02627\n",
      "4288773       4.46173   5.00000    1874 0.18082 0.02627\n",
      "4288774       4.07364   4.50000    2708 0.18082 0.02627\n",
      "4289029     274.23384 256.25000    4000 0.25753 0.04158\n",
      "4289060      46.00004  48.55000    2009 0.25753 0.04158\n",
      "4289061      42.24741  45.60000    1425 0.25753 0.04158\n",
      "4289062      38.63199  42.75000    2009 0.25753 0.04158\n",
      "4289066      26.01636  32.40000    1141 0.25753 0.04158\n",
      "4289071      15.66244  21.80000    2119 0.25753 0.04158\n",
      "4289077       6.85768   8.75000    1088 0.25753 0.04158\n",
      "4289255      58.71877  54.75000   11115 0.35342 0.06220\n",
      "4289256      39.84682  41.55000    2395 0.35342 0.06220\n",
      "4289257      25.04360  30.30000    3898 0.35342 0.06220\n",
      "4289260      16.07830  21.45000    3301 0.35342 0.06220\n",
      "4289263      11.13436  14.55000   12064 0.35342 0.06220\n",
      "4289266       8.12047   9.85000    2801 0.35342 0.06220\n",
      "4289270       4.67647   4.55000    4303 0.35342 0.06220\n",
      "4289407     138.92975  86.95000    3103 0.60274 0.10222\n",
      "4289408     117.06605  72.40000    2717 0.60274 0.10222\n",
      "4289413      55.42953  37.60000    8034 0.60274 0.10222\n",
      "4289416      38.19146  29.15000    3097 0.60274 0.10222\n",
      "4289419      25.35476  22.25000   12772 0.60274 0.10222\n",
      "4289422      17.77589  16.90000   13869 0.60274 0.10222\n",
      "4289423      13.39114  12.65000    1011 0.60274 0.10222\n",
      "4289424      10.56250   9.45000    6007 0.60274 0.10222\n",
      "4289674     169.82879  88.40000    2245 0.85205 0.11445\n",
      "4289803     106.79474  40.05000    3503 1.10137 0.12692\n",
      "4289917     449.77762 125.70000    1152 1.60000 0.19312\n",
      "4289925     305.27245  47.50000    2000 1.60000 0.19312\n",
      "4290714      26.66421  28.40000    3600 0.02466 0.00252\n",
      "4290715      22.63526  24.35000     839 0.02466 0.00252\n",
      "4290716      18.88091  20.60000    3795 0.02466 0.00252\n",
      "4290717      15.44940  17.15000    4844 0.02466 0.00252\n",
      "4290718      12.38419  13.90000     925 0.02466 0.00252\n",
      "4290719       9.71745  11.10000    4534 0.02466 0.00252\n",
      "4290721       5.61502   6.50000    2093 0.02466 0.00252\n",
      "4290722       4.14303   4.85000    1003 0.02466 0.00252\n",
      "4290723       3.00284   3.55000    1422 0.02466 0.00252\n",
      "4290726       0.71555   0.92500    1962 0.02466 0.00252\n",
      "4290729       0.00104   0.05000     953 0.02466 0.00252\n",
      "4290868      37.46072  39.00000    2027 0.04384 0.00475\n",
      "4290870      29.25301  30.90000    5714 0.04384 0.00475\n",
      "4290873      18.55357  20.25000    3213 0.04384 0.00475\n",
      "4290877       8.51008   9.50000     834 0.04384 0.00475\n",
      "4290892       0.14490   0.35000    2364 0.04384 0.00475\n",
      "4291032      61.57192  62.00000    1000 0.06301 0.00719\n",
      "4291042      20.98741  22.95000    2278 0.06301 0.00719\n",
      "4291047       8.96359  10.25000    1750 0.06301 0.00719\n",
      "4291048       7.43599   8.45000    1137 0.06301 0.00719\n"
     ]
    }
   ],
   "source": [
    "toprint = pd.concat([HS_price_2 ,mid_price, data.volume, data.t2m, data.loc[:,'yield']], axis=1)\n",
    "print(toprint)"
   ]
  },
  {
   "cell_type": "code",
   "execution_count": 35,
   "metadata": {},
   "outputs": [],
   "source": [
    "ordering = (np.abs(HS_price_2 - mid_price) / mid_price).sort_values(ascending=False)"
   ]
  },
  {
   "cell_type": "code",
   "execution_count": 36,
   "metadata": {},
   "outputs": [
    {
     "data": {
      "text/html": [
       "<div>\n",
       "<style scoped>\n",
       "    .dataframe tbody tr th:only-of-type {\n",
       "        vertical-align: middle;\n",
       "    }\n",
       "\n",
       "    .dataframe tbody tr th {\n",
       "        vertical-align: top;\n",
       "    }\n",
       "\n",
       "    .dataframe thead th {\n",
       "        text-align: right;\n",
       "    }\n",
       "</style>\n",
       "<table border=\"1\" class=\"dataframe\">\n",
       "  <thead>\n",
       "    <tr style=\"text-align: right;\">\n",
       "      <th></th>\n",
       "      <th>strike_price</th>\n",
       "      <th>0</th>\n",
       "      <th>volume</th>\n",
       "      <th>t2m</th>\n",
       "      <th>yield</th>\n",
       "    </tr>\n",
       "  </thead>\n",
       "  <tbody>\n",
       "    <tr>\n",
       "      <td>4289925</td>\n",
       "      <td>305.27245</td>\n",
       "      <td>47.50000</td>\n",
       "      <td>2000</td>\n",
       "      <td>1.60000</td>\n",
       "      <td>0.19312</td>\n",
       "    </tr>\n",
       "    <tr>\n",
       "      <td>4289917</td>\n",
       "      <td>449.77762</td>\n",
       "      <td>125.70000</td>\n",
       "      <td>1152</td>\n",
       "      <td>1.60000</td>\n",
       "      <td>0.19312</td>\n",
       "    </tr>\n",
       "    <tr>\n",
       "      <td>4289803</td>\n",
       "      <td>106.79474</td>\n",
       "      <td>40.05000</td>\n",
       "      <td>3503</td>\n",
       "      <td>1.10137</td>\n",
       "      <td>0.12692</td>\n",
       "    </tr>\n",
       "    <tr>\n",
       "      <td>4288062</td>\n",
       "      <td>0.00013</td>\n",
       "      <td>0.05000</td>\n",
       "      <td>1741</td>\n",
       "      <td>0.00822</td>\n",
       "      <td>0.00080</td>\n",
       "    </tr>\n",
       "    <tr>\n",
       "      <td>4290729</td>\n",
       "      <td>0.00104</td>\n",
       "      <td>0.05000</td>\n",
       "      <td>953</td>\n",
       "      <td>0.02466</td>\n",
       "      <td>0.00252</td>\n",
       "    </tr>\n",
       "    <tr>\n",
       "      <td>4289674</td>\n",
       "      <td>169.82879</td>\n",
       "      <td>88.40000</td>\n",
       "      <td>2245</td>\n",
       "      <td>0.85205</td>\n",
       "      <td>0.11445</td>\n",
       "    </tr>\n",
       "    <tr>\n",
       "      <td>4288057</td>\n",
       "      <td>0.02158</td>\n",
       "      <td>0.10000</td>\n",
       "      <td>6546</td>\n",
       "      <td>0.00822</td>\n",
       "      <td>0.00080</td>\n",
       "    </tr>\n",
       "    <tr>\n",
       "      <td>4289408</td>\n",
       "      <td>117.06605</td>\n",
       "      <td>72.40000</td>\n",
       "      <td>2717</td>\n",
       "      <td>0.60274</td>\n",
       "      <td>0.10222</td>\n",
       "    </tr>\n",
       "    <tr>\n",
       "      <td>4289407</td>\n",
       "      <td>138.92975</td>\n",
       "      <td>86.95000</td>\n",
       "      <td>3103</td>\n",
       "      <td>0.60274</td>\n",
       "      <td>0.10222</td>\n",
       "    </tr>\n",
       "    <tr>\n",
       "      <td>4290892</td>\n",
       "      <td>0.14490</td>\n",
       "      <td>0.35000</td>\n",
       "      <td>2364</td>\n",
       "      <td>0.04384</td>\n",
       "      <td>0.00475</td>\n",
       "    </tr>\n",
       "    <tr>\n",
       "      <td>4289413</td>\n",
       "      <td>55.42953</td>\n",
       "      <td>37.60000</td>\n",
       "      <td>8034</td>\n",
       "      <td>0.60274</td>\n",
       "      <td>0.10222</td>\n",
       "    </tr>\n",
       "    <tr>\n",
       "      <td>4288424</td>\n",
       "      <td>0.20276</td>\n",
       "      <td>0.35000</td>\n",
       "      <td>2355</td>\n",
       "      <td>0.10411</td>\n",
       "      <td>0.01310</td>\n",
       "    </tr>\n",
       "    <tr>\n",
       "      <td>4288051</td>\n",
       "      <td>2.03137</td>\n",
       "      <td>1.45000</td>\n",
       "      <td>29801</td>\n",
       "      <td>0.00822</td>\n",
       "      <td>0.00080</td>\n",
       "    </tr>\n",
       "    <tr>\n",
       "      <td>4288052</td>\n",
       "      <td>1.11494</td>\n",
       "      <td>0.80000</td>\n",
       "      <td>17157</td>\n",
       "      <td>0.00822</td>\n",
       "      <td>0.00080</td>\n",
       "    </tr>\n",
       "    <tr>\n",
       "      <td>4289416</td>\n",
       "      <td>38.19146</td>\n",
       "      <td>29.15000</td>\n",
       "      <td>3097</td>\n",
       "      <td>0.60274</td>\n",
       "      <td>0.10222</td>\n",
       "    </tr>\n",
       "    <tr>\n",
       "      <td>4289071</td>\n",
       "      <td>15.66244</td>\n",
       "      <td>21.80000</td>\n",
       "      <td>2119</td>\n",
       "      <td>0.25753</td>\n",
       "      <td>0.04158</td>\n",
       "    </tr>\n",
       "    <tr>\n",
       "      <td>4288050</td>\n",
       "      <td>3.45548</td>\n",
       "      <td>2.70000</td>\n",
       "      <td>18449</td>\n",
       "      <td>0.00822</td>\n",
       "      <td>0.00080</td>\n",
       "    </tr>\n",
       "    <tr>\n",
       "      <td>4288764</td>\n",
       "      <td>10.70234</td>\n",
       "      <td>14.60000</td>\n",
       "      <td>4447</td>\n",
       "      <td>0.18082</td>\n",
       "      <td>0.02627</td>\n",
       "    </tr>\n",
       "    <tr>\n",
       "      <td>4288762</td>\n",
       "      <td>13.28720</td>\n",
       "      <td>18.00000</td>\n",
       "      <td>1929</td>\n",
       "      <td>0.18082</td>\n",
       "      <td>0.02627</td>\n",
       "    </tr>\n",
       "    <tr>\n",
       "      <td>4289260</td>\n",
       "      <td>16.07830</td>\n",
       "      <td>21.45000</td>\n",
       "      <td>3301</td>\n",
       "      <td>0.35342</td>\n",
       "      <td>0.06220</td>\n",
       "    </tr>\n",
       "    <tr>\n",
       "      <td>4289263</td>\n",
       "      <td>11.13436</td>\n",
       "      <td>14.55000</td>\n",
       "      <td>12064</td>\n",
       "      <td>0.35342</td>\n",
       "      <td>0.06220</td>\n",
       "    </tr>\n",
       "    <tr>\n",
       "      <td>4288759</td>\n",
       "      <td>18.71041</td>\n",
       "      <td>24.45000</td>\n",
       "      <td>10260</td>\n",
       "      <td>0.18082</td>\n",
       "      <td>0.02627</td>\n",
       "    </tr>\n",
       "    <tr>\n",
       "      <td>4290726</td>\n",
       "      <td>0.71555</td>\n",
       "      <td>0.92500</td>\n",
       "      <td>1962</td>\n",
       "      <td>0.02466</td>\n",
       "      <td>0.00252</td>\n",
       "    </tr>\n",
       "    <tr>\n",
       "      <td>4289077</td>\n",
       "      <td>6.85768</td>\n",
       "      <td>8.75000</td>\n",
       "      <td>1088</td>\n",
       "      <td>0.25753</td>\n",
       "      <td>0.04158</td>\n",
       "    </tr>\n",
       "    <tr>\n",
       "      <td>4289066</td>\n",
       "      <td>26.01636</td>\n",
       "      <td>32.40000</td>\n",
       "      <td>1141</td>\n",
       "      <td>0.25753</td>\n",
       "      <td>0.04158</td>\n",
       "    </tr>\n",
       "    <tr>\n",
       "      <td>4288757</td>\n",
       "      <td>23.60242</td>\n",
       "      <td>29.35000</td>\n",
       "      <td>7335</td>\n",
       "      <td>0.18082</td>\n",
       "      <td>0.02627</td>\n",
       "    </tr>\n",
       "    <tr>\n",
       "      <td>4288769</td>\n",
       "      <td>6.48345</td>\n",
       "      <td>8.05000</td>\n",
       "      <td>2409</td>\n",
       "      <td>0.18082</td>\n",
       "      <td>0.02627</td>\n",
       "    </tr>\n",
       "    <tr>\n",
       "      <td>4289266</td>\n",
       "      <td>8.12047</td>\n",
       "      <td>9.85000</td>\n",
       "      <td>2801</td>\n",
       "      <td>0.35342</td>\n",
       "      <td>0.06220</td>\n",
       "    </tr>\n",
       "    <tr>\n",
       "      <td>4289257</td>\n",
       "      <td>25.04360</td>\n",
       "      <td>30.30000</td>\n",
       "      <td>3898</td>\n",
       "      <td>0.35342</td>\n",
       "      <td>0.06220</td>\n",
       "    </tr>\n",
       "    <tr>\n",
       "      <td>4288055</td>\n",
       "      <td>0.12440</td>\n",
       "      <td>0.15000</td>\n",
       "      <td>978</td>\n",
       "      <td>0.00822</td>\n",
       "      <td>0.00080</td>\n",
       "    </tr>\n",
       "    <tr>\n",
       "      <td>4288399</td>\n",
       "      <td>10.94778</td>\n",
       "      <td>13.05000</td>\n",
       "      <td>8512</td>\n",
       "      <td>0.10411</td>\n",
       "      <td>0.01310</td>\n",
       "    </tr>\n",
       "    <tr>\n",
       "      <td>4288398</td>\n",
       "      <td>12.65610</td>\n",
       "      <td>15.05000</td>\n",
       "      <td>20587</td>\n",
       "      <td>0.10411</td>\n",
       "      <td>0.01310</td>\n",
       "    </tr>\n",
       "    <tr>\n",
       "      <td>4290723</td>\n",
       "      <td>3.00284</td>\n",
       "      <td>3.55000</td>\n",
       "      <td>1422</td>\n",
       "      <td>0.02466</td>\n",
       "      <td>0.00252</td>\n",
       "    </tr>\n",
       "    <tr>\n",
       "      <td>4288397</td>\n",
       "      <td>14.62364</td>\n",
       "      <td>17.25000</td>\n",
       "      <td>14428</td>\n",
       "      <td>0.10411</td>\n",
       "      <td>0.01310</td>\n",
       "    </tr>\n",
       "    <tr>\n",
       "      <td>4288400</td>\n",
       "      <td>9.47314</td>\n",
       "      <td>11.15000</td>\n",
       "      <td>6342</td>\n",
       "      <td>0.10411</td>\n",
       "      <td>0.01310</td>\n",
       "    </tr>\n",
       "    <tr>\n",
       "      <td>4290722</td>\n",
       "      <td>4.14303</td>\n",
       "      <td>4.85000</td>\n",
       "      <td>1003</td>\n",
       "      <td>0.02466</td>\n",
       "      <td>0.00252</td>\n",
       "    </tr>\n",
       "    <tr>\n",
       "      <td>4288396</td>\n",
       "      <td>16.86844</td>\n",
       "      <td>19.70000</td>\n",
       "      <td>1472</td>\n",
       "      <td>0.10411</td>\n",
       "      <td>0.01310</td>\n",
       "    </tr>\n",
       "    <tr>\n",
       "      <td>4289419</td>\n",
       "      <td>25.35476</td>\n",
       "      <td>22.25000</td>\n",
       "      <td>12772</td>\n",
       "      <td>0.60274</td>\n",
       "      <td>0.10222</td>\n",
       "    </tr>\n",
       "    <tr>\n",
       "      <td>4290721</td>\n",
       "      <td>5.61502</td>\n",
       "      <td>6.50000</td>\n",
       "      <td>2093</td>\n",
       "      <td>0.02466</td>\n",
       "      <td>0.00252</td>\n",
       "    </tr>\n",
       "    <tr>\n",
       "      <td>4288401</td>\n",
       "      <td>8.20372</td>\n",
       "      <td>9.45000</td>\n",
       "      <td>16208</td>\n",
       "      <td>0.10411</td>\n",
       "      <td>0.01310</td>\n",
       "    </tr>\n",
       "    <tr>\n",
       "      <td>4288754</td>\n",
       "      <td>32.82074</td>\n",
       "      <td>37.80000</td>\n",
       "      <td>2205</td>\n",
       "      <td>0.18082</td>\n",
       "      <td>0.02627</td>\n",
       "    </tr>\n",
       "    <tr>\n",
       "      <td>4288395</td>\n",
       "      <td>19.39700</td>\n",
       "      <td>22.25000</td>\n",
       "      <td>27273</td>\n",
       "      <td>0.10411</td>\n",
       "      <td>0.01310</td>\n",
       "    </tr>\n",
       "    <tr>\n",
       "      <td>4288402</td>\n",
       "      <td>7.11156</td>\n",
       "      <td>8.15000</td>\n",
       "      <td>3535</td>\n",
       "      <td>0.10411</td>\n",
       "      <td>0.01310</td>\n",
       "    </tr>\n",
       "    <tr>\n",
       "      <td>4291047</td>\n",
       "      <td>8.96359</td>\n",
       "      <td>10.25000</td>\n",
       "      <td>1750</td>\n",
       "      <td>0.06301</td>\n",
       "      <td>0.00719</td>\n",
       "    </tr>\n",
       "    <tr>\n",
       "      <td>4290719</td>\n",
       "      <td>9.71745</td>\n",
       "      <td>11.10000</td>\n",
       "      <td>4534</td>\n",
       "      <td>0.02466</td>\n",
       "      <td>0.00252</td>\n",
       "    </tr>\n",
       "    <tr>\n",
       "      <td>4288049</td>\n",
       "      <td>5.49404</td>\n",
       "      <td>4.90000</td>\n",
       "      <td>37447</td>\n",
       "      <td>0.00822</td>\n",
       "      <td>0.00080</td>\n",
       "    </tr>\n",
       "    <tr>\n",
       "      <td>4291048</td>\n",
       "      <td>7.43599</td>\n",
       "      <td>8.45000</td>\n",
       "      <td>1137</td>\n",
       "      <td>0.06301</td>\n",
       "      <td>0.00719</td>\n",
       "    </tr>\n",
       "    <tr>\n",
       "      <td>4288403</td>\n",
       "      <td>6.17120</td>\n",
       "      <td>7.00000</td>\n",
       "      <td>24192</td>\n",
       "      <td>0.10411</td>\n",
       "      <td>0.01310</td>\n",
       "    </tr>\n",
       "    <tr>\n",
       "      <td>4289424</td>\n",
       "      <td>10.56250</td>\n",
       "      <td>9.45000</td>\n",
       "      <td>6007</td>\n",
       "      <td>0.60274</td>\n",
       "      <td>0.10222</td>\n",
       "    </tr>\n",
       "    <tr>\n",
       "      <td>4290718</td>\n",
       "      <td>12.38419</td>\n",
       "      <td>13.90000</td>\n",
       "      <td>925</td>\n",
       "      <td>0.02466</td>\n",
       "      <td>0.00252</td>\n",
       "    </tr>\n",
       "    <tr>\n",
       "      <td>4288773</td>\n",
       "      <td>4.46173</td>\n",
       "      <td>5.00000</td>\n",
       "      <td>1874</td>\n",
       "      <td>0.18082</td>\n",
       "      <td>0.02627</td>\n",
       "    </tr>\n",
       "    <tr>\n",
       "      <td>4290877</td>\n",
       "      <td>8.51008</td>\n",
       "      <td>9.50000</td>\n",
       "      <td>834</td>\n",
       "      <td>0.04384</td>\n",
       "      <td>0.00475</td>\n",
       "    </tr>\n",
       "    <tr>\n",
       "      <td>4288394</td>\n",
       "      <td>22.20278</td>\n",
       "      <td>24.75000</td>\n",
       "      <td>13240</td>\n",
       "      <td>0.10411</td>\n",
       "      <td>0.01310</td>\n",
       "    </tr>\n",
       "    <tr>\n",
       "      <td>4290717</td>\n",
       "      <td>15.44940</td>\n",
       "      <td>17.15000</td>\n",
       "      <td>4844</td>\n",
       "      <td>0.02466</td>\n",
       "      <td>0.00252</td>\n",
       "    </tr>\n",
       "    <tr>\n",
       "      <td>4288393</td>\n",
       "      <td>25.26821</td>\n",
       "      <td>28.00000</td>\n",
       "      <td>38327</td>\n",
       "      <td>0.10411</td>\n",
       "      <td>0.01310</td>\n",
       "    </tr>\n",
       "    <tr>\n",
       "      <td>4289062</td>\n",
       "      <td>38.63199</td>\n",
       "      <td>42.75000</td>\n",
       "      <td>2009</td>\n",
       "      <td>0.25753</td>\n",
       "      <td>0.04158</td>\n",
       "    </tr>\n",
       "    <tr>\n",
       "      <td>4288774</td>\n",
       "      <td>4.07364</td>\n",
       "      <td>4.50000</td>\n",
       "      <td>2708</td>\n",
       "      <td>0.18082</td>\n",
       "      <td>0.02627</td>\n",
       "    </tr>\n",
       "    <tr>\n",
       "      <td>4288404</td>\n",
       "      <td>5.36038</td>\n",
       "      <td>5.90000</td>\n",
       "      <td>1674</td>\n",
       "      <td>0.10411</td>\n",
       "      <td>0.01310</td>\n",
       "    </tr>\n",
       "    <tr>\n",
       "      <td>4288053</td>\n",
       "      <td>0.57196</td>\n",
       "      <td>0.52500</td>\n",
       "      <td>9966</td>\n",
       "      <td>0.00822</td>\n",
       "      <td>0.00080</td>\n",
       "    </tr>\n",
       "    <tr>\n",
       "      <td>4291042</td>\n",
       "      <td>20.98741</td>\n",
       "      <td>22.95000</td>\n",
       "      <td>2278</td>\n",
       "      <td>0.06301</td>\n",
       "      <td>0.00719</td>\n",
       "    </tr>\n",
       "    <tr>\n",
       "      <td>4290873</td>\n",
       "      <td>18.55357</td>\n",
       "      <td>20.25000</td>\n",
       "      <td>3213</td>\n",
       "      <td>0.04384</td>\n",
       "      <td>0.00475</td>\n",
       "    </tr>\n",
       "    <tr>\n",
       "      <td>4290716</td>\n",
       "      <td>18.88091</td>\n",
       "      <td>20.60000</td>\n",
       "      <td>3795</td>\n",
       "      <td>0.02466</td>\n",
       "      <td>0.00252</td>\n",
       "    </tr>\n",
       "    <tr>\n",
       "      <td>4288392</td>\n",
       "      <td>28.56881</td>\n",
       "      <td>31.15000</td>\n",
       "      <td>11843</td>\n",
       "      <td>0.10411</td>\n",
       "      <td>0.01310</td>\n",
       "    </tr>\n",
       "    <tr>\n",
       "      <td>4288405</td>\n",
       "      <td>4.66009</td>\n",
       "      <td>5.05000</td>\n",
       "      <td>17846</td>\n",
       "      <td>0.10411</td>\n",
       "      <td>0.01310</td>\n",
       "    </tr>\n",
       "    <tr>\n",
       "      <td>4289061</td>\n",
       "      <td>42.24741</td>\n",
       "      <td>45.60000</td>\n",
       "      <td>1425</td>\n",
       "      <td>0.25753</td>\n",
       "      <td>0.04158</td>\n",
       "    </tr>\n",
       "    <tr>\n",
       "      <td>4289255</td>\n",
       "      <td>58.71877</td>\n",
       "      <td>54.75000</td>\n",
       "      <td>11115</td>\n",
       "      <td>0.35342</td>\n",
       "      <td>0.06220</td>\n",
       "    </tr>\n",
       "    <tr>\n",
       "      <td>4290715</td>\n",
       "      <td>22.63526</td>\n",
       "      <td>24.35000</td>\n",
       "      <td>839</td>\n",
       "      <td>0.02466</td>\n",
       "      <td>0.00252</td>\n",
       "    </tr>\n",
       "    <tr>\n",
       "      <td>4289029</td>\n",
       "      <td>274.23384</td>\n",
       "      <td>256.25000</td>\n",
       "      <td>4000</td>\n",
       "      <td>0.25753</td>\n",
       "      <td>0.04158</td>\n",
       "    </tr>\n",
       "    <tr>\n",
       "      <td>4288391</td>\n",
       "      <td>32.07765</td>\n",
       "      <td>34.45000</td>\n",
       "      <td>1959</td>\n",
       "      <td>0.10411</td>\n",
       "      <td>0.01310</td>\n",
       "    </tr>\n",
       "    <tr>\n",
       "      <td>4288408</td>\n",
       "      <td>3.07402</td>\n",
       "      <td>3.30000</td>\n",
       "      <td>5167</td>\n",
       "      <td>0.10411</td>\n",
       "      <td>0.01310</td>\n",
       "    </tr>\n",
       "    <tr>\n",
       "      <td>4290714</td>\n",
       "      <td>26.66421</td>\n",
       "      <td>28.40000</td>\n",
       "      <td>3600</td>\n",
       "      <td>0.02466</td>\n",
       "      <td>0.00252</td>\n",
       "    </tr>\n",
       "    <tr>\n",
       "      <td>4289423</td>\n",
       "      <td>13.39114</td>\n",
       "      <td>12.65000</td>\n",
       "      <td>1011</td>\n",
       "      <td>0.60274</td>\n",
       "      <td>0.10222</td>\n",
       "    </tr>\n",
       "    <tr>\n",
       "      <td>4288411</td>\n",
       "      <td>2.03566</td>\n",
       "      <td>1.92500</td>\n",
       "      <td>1262</td>\n",
       "      <td>0.10411</td>\n",
       "      <td>0.01310</td>\n",
       "    </tr>\n",
       "    <tr>\n",
       "      <td>4290870</td>\n",
       "      <td>29.25301</td>\n",
       "      <td>30.90000</td>\n",
       "      <td>5714</td>\n",
       "      <td>0.04384</td>\n",
       "      <td>0.00475</td>\n",
       "    </tr>\n",
       "    <tr>\n",
       "      <td>4289060</td>\n",
       "      <td>46.00004</td>\n",
       "      <td>48.55000</td>\n",
       "      <td>2009</td>\n",
       "      <td>0.25753</td>\n",
       "      <td>0.04158</td>\n",
       "    </tr>\n",
       "    <tr>\n",
       "      <td>4289422</td>\n",
       "      <td>17.77589</td>\n",
       "      <td>16.90000</td>\n",
       "      <td>13869</td>\n",
       "      <td>0.60274</td>\n",
       "      <td>0.10222</td>\n",
       "    </tr>\n",
       "    <tr>\n",
       "      <td>4288413</td>\n",
       "      <td>1.54859</td>\n",
       "      <td>1.47500</td>\n",
       "      <td>5137</td>\n",
       "      <td>0.10411</td>\n",
       "      <td>0.01310</td>\n",
       "    </tr>\n",
       "    <tr>\n",
       "      <td>4288749</td>\n",
       "      <td>51.69583</td>\n",
       "      <td>54.05000</td>\n",
       "      <td>2028</td>\n",
       "      <td>0.18082</td>\n",
       "      <td>0.02627</td>\n",
       "    </tr>\n",
       "    <tr>\n",
       "      <td>4289256</td>\n",
       "      <td>39.84682</td>\n",
       "      <td>41.55000</td>\n",
       "      <td>2395</td>\n",
       "      <td>0.35342</td>\n",
       "      <td>0.06220</td>\n",
       "    </tr>\n",
       "    <tr>\n",
       "      <td>4290868</td>\n",
       "      <td>37.46072</td>\n",
       "      <td>39.00000</td>\n",
       "      <td>2027</td>\n",
       "      <td>0.04384</td>\n",
       "      <td>0.00475</td>\n",
       "    </tr>\n",
       "    <tr>\n",
       "      <td>4288388</td>\n",
       "      <td>43.60349</td>\n",
       "      <td>45.20000</td>\n",
       "      <td>1399</td>\n",
       "      <td>0.10411</td>\n",
       "      <td>0.01310</td>\n",
       "    </tr>\n",
       "    <tr>\n",
       "      <td>4288046</td>\n",
       "      <td>15.39447</td>\n",
       "      <td>15.85000</td>\n",
       "      <td>7511</td>\n",
       "      <td>0.00822</td>\n",
       "      <td>0.00080</td>\n",
       "    </tr>\n",
       "    <tr>\n",
       "      <td>4289270</td>\n",
       "      <td>4.67647</td>\n",
       "      <td>4.55000</td>\n",
       "      <td>4303</td>\n",
       "      <td>0.35342</td>\n",
       "      <td>0.06220</td>\n",
       "    </tr>\n",
       "    <tr>\n",
       "      <td>4288387</td>\n",
       "      <td>47.70890</td>\n",
       "      <td>48.90000</td>\n",
       "      <td>1186</td>\n",
       "      <td>0.10411</td>\n",
       "      <td>0.01310</td>\n",
       "    </tr>\n",
       "    <tr>\n",
       "      <td>4288045</td>\n",
       "      <td>19.68136</td>\n",
       "      <td>20.10000</td>\n",
       "      <td>2480</td>\n",
       "      <td>0.00822</td>\n",
       "      <td>0.00080</td>\n",
       "    </tr>\n",
       "    <tr>\n",
       "      <td>4288373</td>\n",
       "      <td>112.03619</td>\n",
       "      <td>110.10000</td>\n",
       "      <td>4154</td>\n",
       "      <td>0.10411</td>\n",
       "      <td>0.01310</td>\n",
       "    </tr>\n",
       "    <tr>\n",
       "      <td>4288352</td>\n",
       "      <td>210.82941</td>\n",
       "      <td>207.35000</td>\n",
       "      <td>8013</td>\n",
       "      <td>0.10411</td>\n",
       "      <td>0.01310</td>\n",
       "    </tr>\n",
       "    <tr>\n",
       "      <td>4288410</td>\n",
       "      <td>2.33474</td>\n",
       "      <td>2.30000</td>\n",
       "      <td>12822</td>\n",
       "      <td>0.10411</td>\n",
       "      <td>0.01310</td>\n",
       "    </tr>\n",
       "    <tr>\n",
       "      <td>4288044</td>\n",
       "      <td>24.25980</td>\n",
       "      <td>24.60000</td>\n",
       "      <td>4512</td>\n",
       "      <td>0.00822</td>\n",
       "      <td>0.00080</td>\n",
       "    </tr>\n",
       "    <tr>\n",
       "      <td>4288332</td>\n",
       "      <td>310.62338</td>\n",
       "      <td>306.60000</td>\n",
       "      <td>4002</td>\n",
       "      <td>0.10411</td>\n",
       "      <td>0.01310</td>\n",
       "    </tr>\n",
       "    <tr>\n",
       "      <td>4288048</td>\n",
       "      <td>8.19309</td>\n",
       "      <td>8.10000</td>\n",
       "      <td>8012</td>\n",
       "      <td>0.00822</td>\n",
       "      <td>0.00080</td>\n",
       "    </tr>\n",
       "    <tr>\n",
       "      <td>4288043</td>\n",
       "      <td>29.02562</td>\n",
       "      <td>29.30000</td>\n",
       "      <td>1594</td>\n",
       "      <td>0.00822</td>\n",
       "      <td>0.00080</td>\n",
       "    </tr>\n",
       "    <tr>\n",
       "      <td>4291032</td>\n",
       "      <td>61.57192</td>\n",
       "      <td>62.00000</td>\n",
       "      <td>1000</td>\n",
       "      <td>0.06301</td>\n",
       "      <td>0.00719</td>\n",
       "    </tr>\n",
       "    <tr>\n",
       "      <td>4288042</td>\n",
       "      <td>33.90286</td>\n",
       "      <td>34.10000</td>\n",
       "      <td>6920</td>\n",
       "      <td>0.00822</td>\n",
       "      <td>0.00080</td>\n",
       "    </tr>\n",
       "    <tr>\n",
       "      <td>4288047</td>\n",
       "      <td>11.52374</td>\n",
       "      <td>11.55000</td>\n",
       "      <td>26907</td>\n",
       "      <td>0.00822</td>\n",
       "      <td>0.00080</td>\n",
       "    </tr>\n",
       "    <tr>\n",
       "      <td>4288037</td>\n",
       "      <td>58.79201</td>\n",
       "      <td>58.70000</td>\n",
       "      <td>21364</td>\n",
       "      <td>0.00822</td>\n",
       "      <td>0.00080</td>\n",
       "    </tr>\n",
       "    <tr>\n",
       "      <td>4288054</td>\n",
       "      <td>0.27500</td>\n",
       "      <td>0.27500</td>\n",
       "      <td>7644</td>\n",
       "      <td>0.00822</td>\n",
       "      <td>0.00080</td>\n",
       "    </tr>\n",
       "    <tr>\n",
       "      <td>4288383</td>\n",
       "      <td>65.04999</td>\n",
       "      <td>65.05000</td>\n",
       "      <td>21292</td>\n",
       "      <td>0.10411</td>\n",
       "      <td>0.01310</td>\n",
       "    </tr>\n",
       "  </tbody>\n",
       "</table>\n",
       "</div>"
      ],
      "text/plain": [
       "         strike_price         0  volume     t2m   yield\n",
       "4289925     305.27245  47.50000    2000 1.60000 0.19312\n",
       "4289917     449.77762 125.70000    1152 1.60000 0.19312\n",
       "4289803     106.79474  40.05000    3503 1.10137 0.12692\n",
       "4288062       0.00013   0.05000    1741 0.00822 0.00080\n",
       "4290729       0.00104   0.05000     953 0.02466 0.00252\n",
       "4289674     169.82879  88.40000    2245 0.85205 0.11445\n",
       "4288057       0.02158   0.10000    6546 0.00822 0.00080\n",
       "4289408     117.06605  72.40000    2717 0.60274 0.10222\n",
       "4289407     138.92975  86.95000    3103 0.60274 0.10222\n",
       "4290892       0.14490   0.35000    2364 0.04384 0.00475\n",
       "4289413      55.42953  37.60000    8034 0.60274 0.10222\n",
       "4288424       0.20276   0.35000    2355 0.10411 0.01310\n",
       "4288051       2.03137   1.45000   29801 0.00822 0.00080\n",
       "4288052       1.11494   0.80000   17157 0.00822 0.00080\n",
       "4289416      38.19146  29.15000    3097 0.60274 0.10222\n",
       "4289071      15.66244  21.80000    2119 0.25753 0.04158\n",
       "4288050       3.45548   2.70000   18449 0.00822 0.00080\n",
       "4288764      10.70234  14.60000    4447 0.18082 0.02627\n",
       "4288762      13.28720  18.00000    1929 0.18082 0.02627\n",
       "4289260      16.07830  21.45000    3301 0.35342 0.06220\n",
       "4289263      11.13436  14.55000   12064 0.35342 0.06220\n",
       "4288759      18.71041  24.45000   10260 0.18082 0.02627\n",
       "4290726       0.71555   0.92500    1962 0.02466 0.00252\n",
       "4289077       6.85768   8.75000    1088 0.25753 0.04158\n",
       "4289066      26.01636  32.40000    1141 0.25753 0.04158\n",
       "4288757      23.60242  29.35000    7335 0.18082 0.02627\n",
       "4288769       6.48345   8.05000    2409 0.18082 0.02627\n",
       "4289266       8.12047   9.85000    2801 0.35342 0.06220\n",
       "4289257      25.04360  30.30000    3898 0.35342 0.06220\n",
       "4288055       0.12440   0.15000     978 0.00822 0.00080\n",
       "4288399      10.94778  13.05000    8512 0.10411 0.01310\n",
       "4288398      12.65610  15.05000   20587 0.10411 0.01310\n",
       "4290723       3.00284   3.55000    1422 0.02466 0.00252\n",
       "4288397      14.62364  17.25000   14428 0.10411 0.01310\n",
       "4288400       9.47314  11.15000    6342 0.10411 0.01310\n",
       "4290722       4.14303   4.85000    1003 0.02466 0.00252\n",
       "4288396      16.86844  19.70000    1472 0.10411 0.01310\n",
       "4289419      25.35476  22.25000   12772 0.60274 0.10222\n",
       "4290721       5.61502   6.50000    2093 0.02466 0.00252\n",
       "4288401       8.20372   9.45000   16208 0.10411 0.01310\n",
       "4288754      32.82074  37.80000    2205 0.18082 0.02627\n",
       "4288395      19.39700  22.25000   27273 0.10411 0.01310\n",
       "4288402       7.11156   8.15000    3535 0.10411 0.01310\n",
       "4291047       8.96359  10.25000    1750 0.06301 0.00719\n",
       "4290719       9.71745  11.10000    4534 0.02466 0.00252\n",
       "4288049       5.49404   4.90000   37447 0.00822 0.00080\n",
       "4291048       7.43599   8.45000    1137 0.06301 0.00719\n",
       "4288403       6.17120   7.00000   24192 0.10411 0.01310\n",
       "4289424      10.56250   9.45000    6007 0.60274 0.10222\n",
       "4290718      12.38419  13.90000     925 0.02466 0.00252\n",
       "4288773       4.46173   5.00000    1874 0.18082 0.02627\n",
       "4290877       8.51008   9.50000     834 0.04384 0.00475\n",
       "4288394      22.20278  24.75000   13240 0.10411 0.01310\n",
       "4290717      15.44940  17.15000    4844 0.02466 0.00252\n",
       "4288393      25.26821  28.00000   38327 0.10411 0.01310\n",
       "4289062      38.63199  42.75000    2009 0.25753 0.04158\n",
       "4288774       4.07364   4.50000    2708 0.18082 0.02627\n",
       "4288404       5.36038   5.90000    1674 0.10411 0.01310\n",
       "4288053       0.57196   0.52500    9966 0.00822 0.00080\n",
       "4291042      20.98741  22.95000    2278 0.06301 0.00719\n",
       "4290873      18.55357  20.25000    3213 0.04384 0.00475\n",
       "4290716      18.88091  20.60000    3795 0.02466 0.00252\n",
       "4288392      28.56881  31.15000   11843 0.10411 0.01310\n",
       "4288405       4.66009   5.05000   17846 0.10411 0.01310\n",
       "4289061      42.24741  45.60000    1425 0.25753 0.04158\n",
       "4289255      58.71877  54.75000   11115 0.35342 0.06220\n",
       "4290715      22.63526  24.35000     839 0.02466 0.00252\n",
       "4289029     274.23384 256.25000    4000 0.25753 0.04158\n",
       "4288391      32.07765  34.45000    1959 0.10411 0.01310\n",
       "4288408       3.07402   3.30000    5167 0.10411 0.01310\n",
       "4290714      26.66421  28.40000    3600 0.02466 0.00252\n",
       "4289423      13.39114  12.65000    1011 0.60274 0.10222\n",
       "4288411       2.03566   1.92500    1262 0.10411 0.01310\n",
       "4290870      29.25301  30.90000    5714 0.04384 0.00475\n",
       "4289060      46.00004  48.55000    2009 0.25753 0.04158\n",
       "4289422      17.77589  16.90000   13869 0.60274 0.10222\n",
       "4288413       1.54859   1.47500    5137 0.10411 0.01310\n",
       "4288749      51.69583  54.05000    2028 0.18082 0.02627\n",
       "4289256      39.84682  41.55000    2395 0.35342 0.06220\n",
       "4290868      37.46072  39.00000    2027 0.04384 0.00475\n",
       "4288388      43.60349  45.20000    1399 0.10411 0.01310\n",
       "4288046      15.39447  15.85000    7511 0.00822 0.00080\n",
       "4289270       4.67647   4.55000    4303 0.35342 0.06220\n",
       "4288387      47.70890  48.90000    1186 0.10411 0.01310\n",
       "4288045      19.68136  20.10000    2480 0.00822 0.00080\n",
       "4288373     112.03619 110.10000    4154 0.10411 0.01310\n",
       "4288352     210.82941 207.35000    8013 0.10411 0.01310\n",
       "4288410       2.33474   2.30000   12822 0.10411 0.01310\n",
       "4288044      24.25980  24.60000    4512 0.00822 0.00080\n",
       "4288332     310.62338 306.60000    4002 0.10411 0.01310\n",
       "4288048       8.19309   8.10000    8012 0.00822 0.00080\n",
       "4288043      29.02562  29.30000    1594 0.00822 0.00080\n",
       "4291032      61.57192  62.00000    1000 0.06301 0.00719\n",
       "4288042      33.90286  34.10000    6920 0.00822 0.00080\n",
       "4288047      11.52374  11.55000   26907 0.00822 0.00080\n",
       "4288037      58.79201  58.70000   21364 0.00822 0.00080\n",
       "4288054       0.27500   0.27500    7644 0.00822 0.00080\n",
       "4288383      65.04999  65.05000   21292 0.10411 0.01310"
      ]
     },
     "execution_count": 36,
     "metadata": {},
     "output_type": "execute_result"
    }
   ],
   "source": [
    "toprint.loc[ordering.index,:]"
   ]
  },
  {
   "cell_type": "code",
   "execution_count": 38,
   "metadata": {},
   "outputs": [
    {
     "data": {
      "image/png": "[encoded data removed]",
      "text/plain": [
       "<Figure size 720x360 with 1 Axes>"
      ]
     },
     "metadata": {
      "needs_background": "light"
     },
     "output_type": "display_data"
    }
   ],
   "source": [
    "plot_result(data.loc[:,'strike_price']/1000, HS_price=HS_price_3, target_price=mid_price)"
   ]
  },
  {
   "cell_type": "code",
   "execution_count": 39,
   "metadata": {},
   "outputs": [
    {
     "name": "stdout",
     "output_type": "stream",
     "text": [
      "calibration result Francis\n",
      "('v0', 0.010552029994750644)\n",
      "('kappa', 1.1995843787448408)\n",
      "('theta', 7.443154024401304e-09)\n",
      "('rho', -0.15087874133443124)\n",
      "('vol_vol', 0.5542626192409404)\n"
     ]
    }
   ],
   "source": [
    "par_names = ['v0', 'kappa', 'theta', 'rho', 'vol_vol']\n",
    "\n",
    "print('calibration result Francis')\n",
    "for i in zip(par_names, opt):\n",
    "    print(i)"
   ]
  },
  {
   "cell_type": "code",
   "execution_count": 40,
   "metadata": {},
   "outputs": [
    {
     "name": "stdout",
     "output_type": "stream",
     "text": [
      "calibration result Mayer\n",
      "('v0', 0.013681)\n",
      "('kappa', 1.605179)\n",
      "('theta', 0.053318)\n",
      "('rho', -0.6201)\n",
      "('vol_vol', 0.590506)\n"
     ]
    }
   ],
   "source": [
    "print('calibration result Mayer')\n",
    "for i in zip(par_names, par_1):\n",
    "    print(i)"
   ]
  },
  {
   "cell_type": "code",
   "execution_count": null,
   "metadata": {},
   "outputs": [],
   "source": []
  }
 ],
 "metadata": {
  "kernelspec": {
   "display_name": "Python 3",
   "language": "python",
   "name": "python3"
  },
  "language_info": {
   "codemirror_mode": {
    "name": "ipython",
    "version": 3
   },
   "file_extension": ".py",
   "mimetype": "text/x-python",
   "name": "python",
   "nbconvert_exporter": "python",
   "pygments_lexer": "ipython3",
   "version": "3.7.4"
  }
 },
 "nbformat": 4,
 "nbformat_minor": 2
}
