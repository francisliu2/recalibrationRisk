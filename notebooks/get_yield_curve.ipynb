{
 "cells": [
  {
   "cell_type": "markdown",
   "metadata": {},
   "source": [
    "# Reference\n",
    "http://web.math.ku.dk/~rolf/HaganWest.pdf"
   ]
  },
  {
   "cell_type": "code",
   "execution_count": 3,
   "metadata": {},
   "outputs": [
    {
     "data": {
      "text/html": [
       "        <script type=\"text/javascript\">\n",
       "        window.PlotlyConfig = {MathJaxConfig: 'local'};\n",
       "        if (window.MathJax) {MathJax.Hub.Config({SVG: {font: \"STIX-Web\"}});}\n",
       "        if (typeof require !== 'undefined') {\n",
       "        require.undef(\"plotly\");\n",
       "        requirejs.config({\n",
       "            paths: {\n",
       "                'plotly': ['https://cdn.plot.ly/plotly-latest.min']\n",
       "            }\n",
       "        });\n",
       "        require(['plotly'], function(Plotly) {\n",
       "            window._Plotly = Plotly;\n",
       "        });\n",
       "        }\n",
       "        </script>\n",
       "        "
      ]
     },
     "metadata": {},
     "output_type": "display_data"
    },
    {
     "name": "stdout",
     "output_type": "stream",
     "text": [
      "         0\n",
      "0 34.98775\n"
     ]
    }
   ],
   "source": [
    "import sys\n",
    "# Add the calibration folder path to the sys.path list\n",
    "sys.path.append('../calibration')\n",
    "sys.path.append('../data')\n",
    "\n",
    "from scipy import interpolate\n",
    "from get_US_yieldCurve import *\n",
    "from tools import *\n",
    "pd.set_option('display.float_format', lambda x: '%.5f' % x)# pickle_in = open(\"../data/cleaned_data\",\"rb\")\n",
    "np.set_printoptions(precision=4, suppress=True)"
   ]
  },
  {
   "cell_type": "code",
   "execution_count": 186,
   "metadata": {},
   "outputs": [],
   "source": [
    "from tqdm import tqdm"
   ]
  },
  {
   "cell_type": "code",
   "execution_count": 8,
   "metadata": {},
   "outputs": [],
   "source": [
    "import matplotlib.pyplot as plt"
   ]
  },
  {
   "cell_type": "code",
   "execution_count": 9,
   "metadata": {},
   "outputs": [],
   "source": [
    "oneday = parse_result.loc[parse_result.date_string == '2013-05-13',:]"
   ]
  },
  {
   "cell_type": "code",
   "execution_count": 115,
   "metadata": {},
   "outputs": [],
   "source": [
    "terms = parse_result.loc[:,'term'].unique()\n",
    "terms_year = [3/12, 6/12, 1,2,3,5,7,10,20,30,30,1/12]"
   ]
  },
  {
   "cell_type": "code",
   "execution_count": 117,
   "metadata": {},
   "outputs": [
    {
     "name": "stdout",
     "output_type": "stream",
     "text": [
      "BC_3MONTH\n",
      "BC_6MONTH\n",
      "BC_1YEAR\n",
      "BC_2YEAR\n",
      "BC_3YEAR\n",
      "BC_5YEAR\n",
      "BC_7YEAR\n",
      "BC_10YEAR\n",
      "BC_20YEAR\n",
      "BC_30YEAR\n",
      "BC_30YEARDISPLAY\n",
      "BC_1MONTH\n"
     ]
    }
   ],
   "source": [
    "for i in zip(terms, terms_year):\n",
    "    print(i)"
   ]
  },
  {
   "cell_type": "code",
   "execution_count": 132,
   "metadata": {},
   "outputs": [],
   "source": [
    "a = pd.DataFrame({'terms_year':terms_year, 'term':terms})\n",
    "parse_result = parse_result.merge(a)"
   ]
  },
  {
   "cell_type": "code",
   "execution_count": 135,
   "metadata": {},
   "outputs": [],
   "source": [
    "parse_result.date_string = parse_result.date_string.apply(lambda x: x.replace('-',''))"
   ]
  },
  {
   "cell_type": "code",
   "execution_count": 145,
   "metadata": {},
   "outputs": [],
   "source": [
    "# Remove BC_30YEARDISPLAY\n",
    "parse_result = parse_result.loc[parse_result.term != \"BC_30YEARDISPLAY\",:]\t\n",
    "\n",
    "# Sort by terms\n",
    "parse_result = parse_result.sort_values(by=['date_string', 'terms_year'])"
   ]
  },
  {
   "cell_type": "code",
   "execution_count": 154,
   "metadata": {},
   "outputs": [
    {
     "data": {
      "text/html": [
       "<div>\n",
       "<style scoped>\n",
       "    .dataframe tbody tr th:only-of-type {\n",
       "        vertical-align: middle;\n",
       "    }\n",
       "\n",
       "    .dataframe tbody tr th {\n",
       "        vertical-align: top;\n",
       "    }\n",
       "\n",
       "    .dataframe thead th {\n",
       "        text-align: right;\n",
       "    }\n",
       "</style>\n",
       "<table border=\"1\" class=\"dataframe\">\n",
       "  <thead>\n",
       "    <tr style=\"text-align: right;\">\n",
       "      <th></th>\n",
       "      <th>term</th>\n",
       "      <th>date_string</th>\n",
       "      <th>yield</th>\n",
       "      <th>dt</th>\n",
       "      <th>terms_year</th>\n",
       "    </tr>\n",
       "  </thead>\n",
       "  <tbody>\n",
       "    <tr>\n",
       "      <td>197</td>\n",
       "      <td>BC_3MONTH</td>\n",
       "      <td>19960102</td>\n",
       "      <td>5.20000</td>\n",
       "      <td>1996-01-02</td>\n",
       "      <td>0.25000</td>\n",
       "    </tr>\n",
       "    <tr>\n",
       "      <td>5701</td>\n",
       "      <td>BC_6MONTH</td>\n",
       "      <td>19960102</td>\n",
       "      <td>5.25000</td>\n",
       "      <td>1996-01-02</td>\n",
       "      <td>0.50000</td>\n",
       "    </tr>\n",
       "    <tr>\n",
       "      <td>11208</td>\n",
       "      <td>BC_1YEAR</td>\n",
       "      <td>19960102</td>\n",
       "      <td>5.17000</td>\n",
       "      <td>1996-01-02</td>\n",
       "      <td>1.00000</td>\n",
       "    </tr>\n",
       "    <tr>\n",
       "      <td>16715</td>\n",
       "      <td>BC_2YEAR</td>\n",
       "      <td>19960102</td>\n",
       "      <td>5.18000</td>\n",
       "      <td>1996-01-02</td>\n",
       "      <td>2.00000</td>\n",
       "    </tr>\n",
       "    <tr>\n",
       "      <td>22222</td>\n",
       "      <td>BC_3YEAR</td>\n",
       "      <td>19960102</td>\n",
       "      <td>5.26000</td>\n",
       "      <td>1996-01-02</td>\n",
       "      <td>3.00000</td>\n",
       "    </tr>\n",
       "    <tr>\n",
       "      <td>...</td>\n",
       "      <td>...</td>\n",
       "      <td>...</td>\n",
       "      <td>...</td>\n",
       "      <td>...</td>\n",
       "      <td>...</td>\n",
       "    </tr>\n",
       "    <tr>\n",
       "      <td>33038</td>\n",
       "      <td>BC_5YEAR</td>\n",
       "      <td>20171229</td>\n",
       "      <td>2.20000</td>\n",
       "      <td>2017-12-29</td>\n",
       "      <td>5.00000</td>\n",
       "    </tr>\n",
       "    <tr>\n",
       "      <td>38545</td>\n",
       "      <td>BC_7YEAR</td>\n",
       "      <td>20171229</td>\n",
       "      <td>2.33000</td>\n",
       "      <td>2017-12-29</td>\n",
       "      <td>7.00000</td>\n",
       "    </tr>\n",
       "    <tr>\n",
       "      <td>44052</td>\n",
       "      <td>BC_10YEAR</td>\n",
       "      <td>20171229</td>\n",
       "      <td>2.40000</td>\n",
       "      <td>2017-12-29</td>\n",
       "      <td>10.00000</td>\n",
       "    </tr>\n",
       "    <tr>\n",
       "      <td>49559</td>\n",
       "      <td>BC_20YEAR</td>\n",
       "      <td>20171229</td>\n",
       "      <td>2.58000</td>\n",
       "      <td>2017-12-29</td>\n",
       "      <td>20.00000</td>\n",
       "    </tr>\n",
       "    <tr>\n",
       "      <td>54072</td>\n",
       "      <td>BC_30YEAR</td>\n",
       "      <td>20171229</td>\n",
       "      <td>2.74000</td>\n",
       "      <td>2017-12-29</td>\n",
       "      <td>30.00000</td>\n",
       "    </tr>\n",
       "  </tbody>\n",
       "</table>\n",
       "<p>58181 rows × 5 columns</p>\n",
       "</div>"
      ],
      "text/plain": [
       "            term date_string   yield         dt  terms_year\n",
       "197    BC_3MONTH    19960102 5.20000 1996-01-02     0.25000\n",
       "5701   BC_6MONTH    19960102 5.25000 1996-01-02     0.50000\n",
       "11208   BC_1YEAR    19960102 5.17000 1996-01-02     1.00000\n",
       "16715   BC_2YEAR    19960102 5.18000 1996-01-02     2.00000\n",
       "22222   BC_3YEAR    19960102 5.26000 1996-01-02     3.00000\n",
       "...          ...         ...     ...        ...         ...\n",
       "33038   BC_5YEAR    20171229 2.20000 2017-12-29     5.00000\n",
       "38545   BC_7YEAR    20171229 2.33000 2017-12-29     7.00000\n",
       "44052  BC_10YEAR    20171229 2.40000 2017-12-29    10.00000\n",
       "49559  BC_20YEAR    20171229 2.58000 2017-12-29    20.00000\n",
       "54072  BC_30YEAR    20171229 2.74000 2017-12-29    30.00000\n",
       "\n",
       "[58181 rows x 5 columns]"
      ]
     },
     "execution_count": 154,
     "metadata": {},
     "output_type": "execute_result"
    }
   ],
   "source": [
    "parse_result"
   ]
  },
  {
   "cell_type": "code",
   "execution_count": 155,
   "metadata": {},
   "outputs": [],
   "source": [
    "oneday = parse_result.loc[parse_result.date_string == '20130513',:]"
   ]
  },
  {
   "cell_type": "code",
   "execution_count": 172,
   "metadata": {},
   "outputs": [],
   "source": [
    "\n",
    "x = np.array([0] + list(oneday.terms_year)) # 0 term 0 interest rate\n",
    "y = np.array([0] + list(oneday.loc[:,'yield'])) \n",
    "f = interpolate.interp1d(x=x, y=y, kind='cubic')\n"
   ]
  },
  {
   "cell_type": "code",
   "execution_count": 177,
   "metadata": {},
   "outputs": [
    {
     "data": {
      "text/plain": [
       "[<matplotlib.lines.Line2D at 0x1a29442b50>]"
      ]
     },
     "execution_count": 177,
     "metadata": {},
     "output_type": "execute_result"
    },
    {
     "data": {
      "image/png": "[encoded data removed]",
      "text/plain": [
       "<Figure size 432x288 with 1 Axes>"
      ]
     },
     "metadata": {
      "needs_background": "light"
     },
     "output_type": "display_data"
    }
   ],
   "source": [
    "year=30\n",
    "x_test = np.arange(0,year+0.1,0.1)\n",
    "plt.plot(x_test, f(x_test))\n",
    "plt.plot(x[x<=year],y[x<=year])"
   ]
  },
  {
   "cell_type": "code",
   "execution_count": 179,
   "metadata": {},
   "outputs": [],
   "source": [
    "def make_cubic_interpolation(df, verbose=0, year_plot = 30):\n",
    "    x = np.array([0] + list(df.terms_year)) # 0 term 0 interest rate\n",
    "    y = np.array([0] + list(df.loc[:,'yield'])) \n",
    "    f = interpolate.interp1d(x=x, y=y, kind='cubic')\n",
    "    if verbose > 0:\n",
    "        x_test = np.arange(0,year_plot+0.1,0.1)\n",
    "        plt.plot(x_test, f(x_test))\n",
    "        plt.plot(x[x<=year_plot],y[x<=year_plot])\n",
    "    \n",
    "    return f"
   ]
  },
  {
   "cell_type": "code",
   "execution_count": 187,
   "metadata": {},
   "outputs": [
    {
     "name": "stderr",
     "output_type": "stream",
     "text": [
      "100%|██████████| 5507/5507 [00:21<00:00, 252.53it/s]\n"
     ]
    }
   ],
   "source": [
    "dates = parse_result.date_string.unique()\n",
    "\n",
    "result = {}\n",
    "\n",
    "for d in tqdm(dates):\n",
    "    oneday = parse_result.loc[parse_result.date_string == d,:]\n",
    "\n",
    "    result[d]=make_cubic_interpolation(oneday)"
   ]
  },
  {
   "cell_type": "code",
   "execution_count": 190,
   "metadata": {},
   "outputs": [
    {
     "data": {
      "text/plain": [
       "array(0.13)"
      ]
     },
     "execution_count": 190,
     "metadata": {},
     "output_type": "execute_result"
    }
   ],
   "source": [
    "result['20130513'](1)"
   ]
  },
  {
   "cell_type": "code",
   "execution_count": 193,
   "metadata": {},
   "outputs": [],
   "source": [
    "import pickle \n",
    "pickle_out = open(\"../data/US_yieldCurve_interpolatedFunction\",\"wb\")\n",
    "pickle.dump(result, pickle_out)\n",
    "pickle_out.close()"
   ]
  },
  {
   "cell_type": "code",
   "execution_count": 107,
   "metadata": {},
   "outputs": [
    {
     "data": {
      "image/png": "[encoded data removed]",
      "text/latex": [
       "$\\displaystyle 0.06826284407214328$"
      ],
      "text/plain": [
       "0.06826284407214328"
      ]
     },
     "execution_count": 107,
     "metadata": {},
     "output_type": "execute_result"
    }
   ],
   "source": [
    "0.26-f(1.6)"
   ]
  },
  {
   "cell_type": "code",
   "execution_count": 109,
   "metadata": {},
   "outputs": [
    {
     "data": {
      "image/png": "[encoded data removed]",
      "text/latex": [
       "$\\displaystyle 0.004736710970322883$"
      ],
      "text/plain": [
       "0.004736710970322883"
      ]
     },
     "execution_count": 109,
     "metadata": {},
     "output_type": "execute_result"
    }
   ],
   "source": [
    "0.12 - f(0.85)"
   ]
  },
  {
   "cell_type": "code",
   "execution_count": 100,
   "metadata": {},
   "outputs": [
    {
     "data": {
      "text/plain": [
       "[<matplotlib.lines.Line2D at 0x1a221f36d0>]"
      ]
     },
     "execution_count": 100,
     "metadata": {},
     "output_type": "execute_result"
    },
    {
     "data": {
      "image/png": "[encoded data removed]",
      "text/plain": [
       "<Figure size 432x288 with 1 Axes>"
      ]
     },
     "metadata": {
      "needs_background": "light"
     },
     "output_type": "display_data"
    }
   ],
   "source": [
    "year=3\n",
    "x_test = np.arange(0,year+0.1,0.1)\n",
    "plt.plot(x_test, f(x_test))\n",
    "plt.plot(x[x<=year],y[x<=year])"
   ]
  }
 ],
 "metadata": {
  "kernelspec": {
   "display_name": "Python 3",
   "language": "python",
   "name": "python3"
  },
  "language_info": {
   "codemirror_mode": {
    "name": "ipython",
    "version": 3
   },
   "file_extension": ".py",
   "mimetype": "text/x-python",
   "name": "python",
   "nbconvert_exporter": "python",
   "pygments_lexer": "ipython3",
   "version": "3.7.4"
  }
 },
 "nbformat": 4,
 "nbformat_minor": 2
}
