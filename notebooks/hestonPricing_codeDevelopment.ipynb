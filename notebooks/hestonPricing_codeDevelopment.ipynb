{
 "cells": [
  {
   "cell_type": "markdown",
   "metadata": {},
   "source": [
    "## Pricing Function\n",
    "\n",
    "The [Heston process](https://en.wikipedia.org/wiki/Heston_model) is described by the SDE: \n",
    "\n",
    "$ \\begin{cases}\n",
    "dS_t = \\mu S_t dt + \\sqrt{v_t} S_t dW^1_t \\\\\n",
    "dv_t = \\kappa (\\theta - v_t) dt + \\sigma \\sqrt{v_t} dW^2_t \n",
    "\\end{cases}$\n",
    "\n",
    "The stock price follows a \"geometric Brownian motion\" with a stochastic volatility. The square of the volatility (the variance) follows a CIR process.     \n",
    "\n",
    "Parameters from the market are:\n",
    "- $\\mu$ drift of the stock process\n",
    "- $S_t$ price of the underlying asset\n",
    "\n",
    "Parameters to be calibrated are:\n",
    "- $v_t$ the instantaneous variance from the second equation \n",
    "- $\\kappa$ mean reversion coefficient of the variance process\n",
    "- $\\theta$ long term mean of the variance process \n",
    "- $\\sigma$  volatility coefficient of the variance process\n",
    "- $\\rho$ correlation between $W^1$ and $W^2$ i.e.\n",
    "$$ dW^1_t dW^2_t = \\rho dt $$\n",
    "\n",
    "We will also require that $2\\kappa \\theta > \\sigma^2$ (Feller condition).\n"
   ]
  },
  {
   "cell_type": "markdown",
   "metadata": {},
   "source": [
    "$\n",
    "C(K,T) = \\frac{\\operatorname{exp}(-\\alpha \\operatorname{log}(K))}{\\pi}\n",
    "\\int^{+\\infty}_{0} \\operatorname{exp}(-iv\\operatorname{log}(K))\\xi(v)dv\n",
    "$\n",
    "\n",
    "where\n",
    "\n",
    "$\n",
    "\\xi(v) = \\frac{\\operatorname{exp}(-rT)E[\\operatorname{exp}(i(v-(\\alpha+1)i) \\operatorname{log}(S_T))]}{\\alpha^2 + \\alpha - v^2 + i(2\\alpha + 1)v}\\\\\n",
    "\\ \\ \\ \\  \\; = \\frac{\\operatorname{exp}(-rT)\\phi(v-(\\alpha+1)i,T)}\n",
    "{\\alpha^2 + \\alpha - v^2 + i(2\\alpha + 1)v}\n",
    "$"
   ]
  },
  {
   "cell_type": "markdown",
   "metadata": {},
   "source": [
    "## Heston characteristic function as proposed by Schoutens (2004)\n",
    "\n",
    "$$\n",
    "\\phi(u,t) = E[exp(iu \\operatorname{log}(S_t))|S_0, v_0] \\\\\n",
    "\\qquad \\ = \\operatorname{exp}(iu(\\operatorname{log}S_0 + (r-q)t)) \\\\\n",
    "\\qquad \\;  \\times \\operatorname{exp}(\\theta\\kappa\\sigma^{-2}((\\kappa - \\rho \\sigma u i -d)t - 2 \\operatorname{log}((1-g \\operatorname{e}^{-dt})/(1-g)))) \\\\\n",
    "\\qquad \\; \\times \\operatorname{exp}(v_0 \\sigma^{-2}(\\kappa - \\rho \\sigma u i -d)(1-\\operatorname{e}^{-dt})/(1-g\\operatorname{e}^{-dt}))\n",
    "$$\n",
    "\n",
    "where\n",
    "$$\n",
    "d = ((\\rho \\sigma u i - \\kappa)^2 - \\theta^2(-iu-u^2))^{\\frac{1}{2}} \\\\\n",
    "g = (\\kappa - \\rho \\sigma u i - d) / (\\kappa - \\rho \\sigma u i + d)\n",
    "$$\n",
    "\n",
    "notes: $\\mu=r-q$ in the codes below"
   ]
  },
  {
   "cell_type": "code",
   "execution_count": null,
   "metadata": {},
   "outputs": [],
   "source": [
    "# CF\n",
    "def cf_Heston_schoutens(u, S, Tau, r, v0, kappa, theta, rho, vol_vol):\n",
    "    \"\"\"\n",
    "    Heston characteristic function as proposed by Schoutens (2004)\n",
    "    S      : Spot Price\n",
    "    Tau    : Time to Maturity\n",
    "    r      : Risk-Free Rate\n",
    "    v0     : Instantaneous vol\n",
    "    kappa  : Mean reversion rate\n",
    "    theta  : Long term vol\n",
    "    rho    : Corr of two Brownian Motion\n",
    "    vol_vol: Vol of vol\n",
    "    \"\"\"\n",
    "    phi = kappa - vol_vol * rho * u * 1j\n",
    "    d = np.sqrt(((-phi) ** 2) - ((vol_vol ** 2) * (-1j * u - u ** 2)))\n",
    "    g = (phi - d) / (phi + d)\n",
    "\n",
    "    cf = np.exp((1j * u) * (np.log(S) + r * Tau)) * \\\n",
    "         np.exp((kappa * theta) / (vol_vol ** 2) * ((phi - d) * Tau - 2 * np.log((1 - g * np.exp(-d * Tau)) / (1 - g)))) * \\\n",
    "         np.exp((v0 / vol_vol ** 2) * (phi - d) * (1 - np.exp(-d * Tau)) / (1 - g * np.exp(-d * Tau)))\n",
    "    return cf"
   ]
  },
  {
   "cell_type": "code",
   "execution_count": null,
   "metadata": {},
   "outputs": [],
   "source": [
    "# Xi in pricing function\n",
    "def xi(u, alpha, S, Tau, r, v0, kappa, theta, rho, vol_vol):\n",
    "    \"\"\"\n",
    "    Intermediate step of calculating the call price\n",
    "    alpha : alpha th moment\n",
    "    \"\"\"\n",
    "    cf = cf_Heston_schoutens(u - (alpha+1)*1j,\n",
    "                             S, Tau, r, v0, kappa, theta, rho, vol_vol)\n",
    "    numerator = np.exp(-r * Tau)*cf\n",
    "    denominator = alpha**2 + alpha - u**2 + 1j*(2*alpha+1)*u\n",
    "    return numerator/denominator\n"
   ]
  },
  {
   "cell_type": "code",
   "execution_count": null,
   "metadata": {},
   "outputs": [],
   "source": [
    "# Vectorised integrand \n",
    "def integrand(u, alpha, S, K, Tau, r, v0, kappa, theta, rho, vol_vol):\n",
    "    return (np.exp(-1j*u*np.log(K)))*xi(u, alpha, S, Tau, r, v0, kappa, theta, rho, vol_vol)\n",
    "\n",
    "\n",
    "def quad_integrand(alpha, S, K, Tau, r, v0, kappa, theta, rho, vol_vol):\n",
    "    return quad(integrand, limit=10000, a=0, b=np.inf, args=(alpha, S, K, Tau, r, v0, kappa, theta, rho, vol_vol))[0]\n",
    "\n",
    "\n",
    "vec_quad_integrand = np.vectorize(quad_integrand)"
   ]
  },
  {
   "cell_type": "code",
   "execution_count": null,
   "metadata": {},
   "outputs": [],
   "source": [
    "# Pricing Function\n",
    "def call_price_HS(alpha, S, K, Tau, r, par):\n",
    "    v0, kappa, theta, rho, vol_vol = par\n",
    "    multiplier = np.exp(-alpha*np.log(K))/np.pi\n",
    "    return multiplier*vec_quad_integrand(alpha, S, K, Tau, r, v0, kappa, theta, rho, vol_vol)"
   ]
  }
 ],
 "metadata": {
  "kernelspec": {
   "display_name": "Python 3",
   "language": "python",
   "name": "python3"
  },
  "language_info": {
   "codemirror_mode": {
    "name": "ipython",
    "version": 3
   },
   "file_extension": ".py",
   "mimetype": "text/x-python",
   "name": "python",
   "nbconvert_exporter": "python",
   "pygments_lexer": "ipython3",
   "version": "3.7.4"
  }
 },
 "nbformat": 4,
 "nbformat_minor": 2
}
