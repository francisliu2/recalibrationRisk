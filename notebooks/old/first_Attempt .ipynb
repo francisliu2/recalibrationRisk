{
 "cells": [
  {
   "cell_type": "code",
   "execution_count": 1,
   "metadata": {},
   "outputs": [],
   "source": [
    "import numpy as np\n",
    "import scipy as scp\n",
    "import scipy.stats as ss\n",
    "import sklearn.metrics as sm\n",
    "\n",
    "from scipy.integrate import quad\n",
    "\n",
    "import matplotlib.pyplot as plt\n",
    "import scipy.special as scps\n",
    "from statsmodels.graphics.gofplots import qqplot\n",
    "from scipy.linalg import cholesky\n",
    "from functools import partial\n",
    "from scipy.optimize import minimize\n",
    "from IPython.display import display\n",
    "import sympy; sympy.init_printing()\n",
    "\n",
    "def display_matrix(m):\n",
    "    display(sympy.Matrix(m))"
   ]
  },
  {
   "cell_type": "code",
   "execution_count": 2,
   "metadata": {},
   "outputs": [],
   "source": [
    "mu = 0.05                                          # drift\n",
    "rho = -0.8                                         # correlation coefficient\n",
    "kappa = 3                                          # mean reversion coefficient\n",
    "theta = 0.1                                        # long-term mean of the variance\n",
    "sigma = 0.25                                       # (Vol of Vol) - Volatility of instantaneous variance\n",
    "T = 15                                             # Time to mat\n",
    "r = 0.05                                           # risk-free rate\n",
    "K = 100                                            # Stike  \n",
    "v0 = 0.08                                          # spot variance\n",
    "S0 = 100                                           # spot stock price \n",
    "k = np.log(K/S0) \n"
   ]
  },
  {
   "cell_type": "markdown",
   "metadata": {},
   "source": [
    "## Heston characteristic function as proposed by Schoutens (2004)"
   ]
  },
  {
   "cell_type": "code",
   "execution_count": 2,
   "metadata": {},
   "outputs": [
    {
     "ename": "NameError",
     "evalue": "name 'T' is not defined",
     "output_type": "error",
     "traceback": [
      "\u001b[1;31m---------------------------------------------------------------------------\u001b[0m",
      "\u001b[1;31mNameError\u001b[0m                                 Traceback (most recent call last)",
      "\u001b[1;32m<ipython-input-2-b9a49e69ebd2>\u001b[0m in \u001b[0;36m<module>\u001b[1;34m()\u001b[0m\n\u001b[0;32m     10\u001b[0m     \u001b[1;32mreturn\u001b[0m \u001b[0mcf\u001b[0m\u001b[1;33m\u001b[0m\u001b[0m\n\u001b[0;32m     11\u001b[0m \u001b[1;33m\u001b[0m\u001b[0m\n\u001b[1;32m---> 12\u001b[1;33m \u001b[0mcf_Heston_schoutens_valuation\u001b[0m \u001b[1;33m=\u001b[0m \u001b[0mpartial\u001b[0m\u001b[1;33m(\u001b[0m\u001b[0mcf_Heston_schoutens\u001b[0m\u001b[1;33m,\u001b[0m \u001b[0mt\u001b[0m\u001b[1;33m=\u001b[0m\u001b[0mT\u001b[0m\u001b[1;33m,\u001b[0m \u001b[0mv0\u001b[0m\u001b[1;33m=\u001b[0m\u001b[0mv0\u001b[0m\u001b[1;33m,\u001b[0m \u001b[0mmu\u001b[0m\u001b[1;33m=\u001b[0m\u001b[0mmu\u001b[0m\u001b[1;33m,\u001b[0m \u001b[0mtheta\u001b[0m\u001b[1;33m=\u001b[0m\u001b[0mtheta\u001b[0m\u001b[1;33m,\u001b[0m \u001b[0msigma\u001b[0m\u001b[1;33m=\u001b[0m\u001b[0msigma\u001b[0m\u001b[1;33m,\u001b[0m \u001b[0mkappa\u001b[0m\u001b[1;33m=\u001b[0m\u001b[0mkappa\u001b[0m\u001b[1;33m,\u001b[0m \u001b[0mrho\u001b[0m\u001b[1;33m=\u001b[0m\u001b[0mrho\u001b[0m\u001b[1;33m)\u001b[0m\u001b[1;33m\u001b[0m\u001b[0m\n\u001b[0m",
      "\u001b[1;31mNameError\u001b[0m: name 'T' is not defined"
     ]
    }
   ],
   "source": [
    "def cf_Heston_schoutens(u, t, v0, mu, kappa, theta, rho, sigma):\n",
    "    \"\"\"\n",
    "    Heston characteristic function as proposed by Schoutens (2004)\n",
    "    \"\"\"\n",
    "    xi = kappa - sigma*rho*u*1j\n",
    "    d = np.sqrt( xi**2 + sigma**2 * (u**2 + 1j*u) )\n",
    "    g1 = (xi+d)/(xi-d)\n",
    "    g2 = 1/g1\n",
    "    cf = np.exp( 1j*u*mu*t + (kappa*theta)/(sigma**2) * ( (xi-d)*t - 2*np.log( (1-g2*np.exp(-d*t))/(1-g2) ))\\\n",
    "              + (v0/sigma**2)*(xi-d) * (1-np.exp(-d*t))/(1-g2*np.exp(-d*t)) )\n",
    "    return cf\n",
    "\n",
    "cf_Heston_schoutens_valuation = partial(cf_Heston_schoutens, t=T, v0=v0, mu=mu, theta=theta, sigma=sigma, kappa=kappa, rho=rho) "
   ]
  },
  {
   "cell_type": "code",
   "execution_count": 97,
   "metadata": {},
   "outputs": [],
   "source": [
    "def Q1(k, cf, right_lim):\n",
    "    \"\"\"\n",
    "    P(X<k) - Probability to be in the money under the stock numeraire.\n",
    "    cf: characteristic function\n",
    "    right_lim: right limit of integration\n",
    "    \"\"\"\n",
    "    integrand = lambda u: np.real( (np.exp(-u*k*1j) / (u*1j)) * \n",
    "                                  cf(u-1j) / cf(-1.0000000000001j) )  \n",
    "    return 1/2 + 1/np.pi * quad(integrand, 1e-15, right_lim, limit=500 )[0]\n",
    "\n",
    "def Q2(k, cf, right_lim):\n",
    "    \"\"\"\n",
    "    P(X<k) - Probability to be in the money under the money market numeraire\n",
    "    cf: characteristic function\n",
    "    right_lim: right limit of integration\n",
    "    \"\"\"\n",
    "    integrand = lambda u: np.real( np.exp(-u*k*1j) /(u*1j) * cf(u) )\n",
    "    return 1/2 + 1/np.pi * quad(integrand, 1e-15, right_lim, limit=500 )[0]\n"
   ]
  },
  {
   "cell_type": "code",
   "execution_count": 98,
   "metadata": {},
   "outputs": [
    {
     "name": "stdout",
     "output_type": "stream",
     "text": [
      "65.27786862734618\n"
     ]
    }
   ],
   "source": [
    "limit_max = 1000      # right limit in the integration                \n",
    "call = S0 * Q1(k, cf_Heston_schoutens_valuation, limit_max) - K * np.exp(-r*T)* Q2(k, cf_Heston_schoutens_valuation, limit_max)\n",
    "print(call)"
   ]
  },
  {
   "cell_type": "code",
   "execution_count": 99,
   "metadata": {},
   "outputs": [
    {
     "name": "stdout",
     "output_type": "stream",
     "text": [
      "65.27786862734618\n"
     ]
    }
   ],
   "source": [
    "model_price = S0 * Q1(k, cf_Heston_schoutens_valuation, limit_max) - K * np.exp(-r*T) * Q2(k, cf_Heston_schoutens_valuation, limit_max)\n",
    "print(model_price)"
   ]
  },
  {
   "cell_type": "code",
   "execution_count": 100,
   "metadata": {},
   "outputs": [],
   "source": [
    "def call_price(S0, K, T, v0, r, par): #BUGGY\n",
    "    limit_max = 1000\n",
    "    mu, theta, sigma, kappa, rho = par\n",
    "    cf_Heston_schoutens_valuation = partial(cf_Heston_schoutens, t=T, v0=v0, mu=mu, theta=theta, sigma=sigma, kappa=kappa, rho=rho) \n",
    "    model_price = S0 * Q1(k, cf_Heston_schoutens_valuation, limit_max) - K * np.exp(-r*T) * Q2(k, cf_Heston_schoutens_valuation, limit_max)\n",
    "    return model_price\n",
    "\n",
    "def call_loss_function(par, **kwargs):\n",
    "    mu, theta, sigma, kappa, rho = par\n",
    "    \n",
    "    S0 = kwargs['S0']\n",
    "    K =  kwargs['K']\n",
    "    T =  kwargs['T']\n",
    "    r =  kwargs['r']\n",
    "    v0 = kwargs['v0']\n",
    "    market_price = kwargs['market_price']\n",
    "    k = np.log(K/S0)\n",
    "    \n",
    "    try:\n",
    "        limit_max = kwargs['limit_max']\n",
    "    except:\n",
    "        limit_max = 1000\n",
    "    \n",
    "    cf_Heston_schoutens_valuation = partial(cf_Heston_schoutens, t=T, v0=v0, mu=mu, theta=theta, sigma=sigma, kappa=kappa, rho=rho) \n",
    "    model_price = S0 * Q1(k, cf_Heston_schoutens_valuation, limit_max) - K * np.exp(-r*T) * Q2(k, cf_Heston_schoutens_valuation, limit_max)\n",
    "    loss = np.abs((market_price - model_price))\n",
    "    return loss\n",
    "\n",
    "# def call_loss_function(S0, K, T, v0, par, market_price):\n",
    "#     mu, theta, sigma, kappa, rho = par\n",
    "#     cf_Heston_schoutens_valuation = partial(cf_Heston_schoutens, t=T, v0=v0, mu=r, theta=theta, sigma=sigma, kappa=kappa, rho=rho) \n",
    "#     market_price = market_price \n",
    "#     model_price = S0 * Q1(k, cf_Heston_schoutens_valuation, limit_max) - K * np.exp(-r*T) * Q2(k, cf_Heston_schoutens_valuation, limit_max)\n",
    "#     loss = np.abs((market_price - model_price)/market_price)\n",
    "#     return loss"
   ]
  },
  {
   "cell_type": "markdown",
   "metadata": {},
   "source": [
    "## Senity Check"
   ]
  },
  {
   "cell_type": "code",
   "execution_count": 101,
   "metadata": {},
   "outputs": [
    {
     "name": "stdout",
     "output_type": "stream",
     "text": [
      "Call Price from equation 1: 65.27786862734618\n",
      "Call Price from equation 2: 73.99263806326081\n",
      "loss: 0.0\n"
     ]
    }
   ],
   "source": [
    "# mu, theta, sigma, kappa, rho\n",
    "mu = 0.05                                          # drift\n",
    "theta = 0.1                                        # long-term mean of the variance\n",
    "sigma = 0.25                                       # (Vol of Vol) - Volatility of instantaneous variance\n",
    "kappa = 3                                          # mean reversion coefficient\n",
    "rho = -0.8                                         # correlation coefficient\n",
    "T = 15                                             # Time to mat\n",
    "r = 0.05                                           # risk-free rate\n",
    "K = 100                                            # Stike  \n",
    "v0 = 0.08                                          # spot variance\n",
    "S0 = 100                                           # spot stock price \n",
    "k = np.log(K/S0) \n",
    "\n",
    "# Check if the prices match\n",
    "limit_max = 1000      # right limit in the integration                \n",
    "call = S0 * Q1(k, cf_Heston_schoutens_valuation, limit_max) - K * np.exp(-r*T)* Q2(k, cf_Heston_schoutens_valuation, limit_max)\n",
    "print('Call Price from equation 1:',call)\n",
    "\n",
    "par = (mu, theta, sigma, kappa, rho)\n",
    "x = call_price(S0, K, T, r, v0, par)\n",
    "print('Call Price from equation 2:',x)\n",
    "\n",
    "loss = call_loss_function(par, S0=S0, K=K, T=T, r=r, v0=v0, market_price=call)\n",
    "print('loss:',loss)"
   ]
  },
  {
   "cell_type": "code",
   "execution_count": 10,
   "metadata": {
    "scrolled": true
   },
   "outputs": [
    {
     "name": "stderr",
     "output_type": "stream",
     "text": [
      "C:\\Users\\user\\Anaconda3\\lib\\site-packages\\ipykernel_launcher.py:7: RuntimeWarning: divide by zero encountered in cdouble_scalars\n",
      "  import sys\n",
      "C:\\Users\\user\\Anaconda3\\lib\\site-packages\\ipykernel_launcher.py:7: RuntimeWarning: invalid value encountered in cdouble_scalars\n",
      "  import sys\n",
      "C:\\Users\\user\\Anaconda3\\lib\\site-packages\\ipykernel_launcher.py:8: RuntimeWarning: invalid value encountered in cdouble_scalars\n",
      "  \n",
      "C:\\Users\\user\\Anaconda3\\lib\\site-packages\\ipykernel_launcher.py:9: RuntimeWarning: invalid value encountered in cdouble_scalars\n",
      "  if __name__ == '__main__':\n",
      "C:\\Users\\user\\Anaconda3\\lib\\site-packages\\ipykernel_launcher.py:9: RuntimeWarning: invalid value encountered in log\n",
      "  if __name__ == '__main__':\n",
      "C:\\Users\\user\\Anaconda3\\lib\\site-packages\\scipy\\integrate\\quadpack.py:385: IntegrationWarning: The occurrence of roundoff error is detected, which prevents \n",
      "  the requested tolerance from being achieved.  The error may be \n",
      "  underestimated.\n",
      "  warnings.warn(msg, IntegrationWarning)\n",
      "C:\\Users\\user\\Anaconda3\\lib\\site-packages\\scipy\\integrate\\quadpack.py:385: IntegrationWarning: The maximum number of subdivisions (500) has been achieved.\n",
      "  If increasing the limit yields no improvement it is advised to analyze \n",
      "  the integrand in order to determine the difficulties.  If the position of a \n",
      "  local difficulty can be determined (singularity, discontinuity) one will \n",
      "  probably gain from splitting up the interval and calling the integrator \n",
      "  on the subranges.  Perhaps a special-purpose integrator should be used.\n",
      "  warnings.warn(msg, IntegrationWarning)\n",
      "C:\\Users\\user\\Anaconda3\\lib\\site-packages\\scipy\\integrate\\quadpack.py:385: IntegrationWarning: The integral is probably divergent, or slowly convergent.\n",
      "  warnings.warn(msg, IntegrationWarning)\n",
      "C:\\Users\\user\\Anaconda3\\lib\\site-packages\\scipy\\integrate\\quadpack.py:385: IntegrationWarning: The algorithm does not converge.  Roundoff error is detected\n",
      "  in the extrapolation table.  It is assumed that the requested tolerance\n",
      "  cannot be achieved, and that the returned result (if full_output = 1) is \n",
      "  the best which can be obtained.\n",
      "  warnings.warn(msg, IntegrationWarning)\n"
     ]
    },
    {
     "name": "stdout",
     "output_type": "stream",
     "text": [
      "Optimization terminated successfully.\n",
      "         Current function value: 0.000001\n",
      "         Iterations: 271\n",
      "         Function evaluations: 530\n",
      "[ 0.0501164   0.04032133  0.03629767 -0.00800571 -1.00256944]\n"
     ]
    }
   ],
   "source": [
    "init_par = np.random.uniform(size=5)\n",
    "call_loss_function_to_optimize = partial(call_loss_function, S0=S0, K=K, T=T, r=r, v0=v0, market_price=call)\n",
    "res = minimize(call_loss_function_to_optimize, init_par, method='nelder-mead',\n",
    "               options={'xtol': 1e-8, 'disp': True})\n",
    "print(res.x)"
   ]
  },
  {
   "cell_type": "code",
   "execution_count": 13,
   "metadata": {},
   "outputs": [
    {
     "name": "stdout",
     "output_type": "stream",
     "text": [
      "Optimization terminated successfully.\n",
      "         Current function value: 0.000000\n",
      "         Iterations: 180\n",
      "         Function evaluations: 354\n",
      "[ 1.27527685e-01 -2.00234501e-03  2.37961024e-01  2.78034622e+00\n",
      " -8.63268715e-01]\n"
     ]
    }
   ],
   "source": [
    "init_par = np.array([mu, theta, sigma, kappa, rho]) + np.random.normal(0,.1,5)\n",
    "\n",
    "call_loss_function_to_optimize = partial(call_loss_function, S0=S0, K=K, T=T, r=r, v0=v0, market_price=call)\n",
    "\n",
    "res = minimize(call_loss_function_to_optimize,\n",
    "               init_par,\n",
    "\n",
    "               method='nelder-mead',\n",
    "               options={'xtol': 1e-8, 'disp': True})\n",
    "print(res.x)"
   ]
  },
  {
   "cell_type": "code",
   "execution_count": 20,
   "metadata": {},
   "outputs": [
    {
     "name": "stdout",
     "output_type": "stream",
     "text": [
      "Warning: Maximum number of function evaluations has been exceeded.\n",
      "init par: [ 0.04741062  0.09916593  0.25106994  3.0016109  -0.79876408]\n",
      "target: [ 0.05  0.1   0.25  3.   -0.8 ]\n",
      "result: [ 0.04903197  0.09998852  0.24605324  3.07609344 -0.79320324]\n",
      "Wall time: 32.3 s\n"
     ]
    }
   ],
   "source": [
    "# %%time\n",
    "# init_par = np.array([mu, theta, sigma, kappa, rho]) + np.random.normal(0,.001,5)\n",
    "# call_loss_function_to_optimize = partial(call_loss_function, S0=S0, K=K, T=T, r=r, v0=v0, market_price=call)\n",
    "# res = minimize(call_loss_function_to_optimize, init_par, method='nelder-mead',\n",
    "#                options={'xtol': 1e-15, 'disp': True})\n",
    "# print('init par:', init_par)\n",
    "# print('target:', np.array([mu, theta, sigma, kappa, rho]))\n",
    "# print('result:',res.x)"
   ]
  },
  {
   "cell_type": "code",
   "execution_count": 87,
   "metadata": {},
   "outputs": [
    {
     "name": "stderr",
     "output_type": "stream",
     "text": [
      "C:\\Users\\user\\Anaconda3\\lib\\site-packages\\scipy\\optimize\\_minimize.py:518: RuntimeWarning: Method nelder-mead cannot handle constraints nor bounds.\n",
      "  RuntimeWarning)\n"
     ]
    },
    {
     "name": "stdout",
     "output_type": "stream",
     "text": [
      "Warning: Maximum number of function evaluations has been exceeded.\n",
      "init par: (0.6875867084346896, 3.6448119051680363, 0.6579970507338553, 4.010206603424301, -0.36409940652296613)\n",
      "target: [ 0.05  0.1   0.25  3.   -0.8 ]\n",
      "result: [ 0.9502103   2.93505584  0.38628178  2.23087802 -0.92247521]\n",
      "MSE init par vs target: 2.8698393112393683\n",
      "MSE result vs target: 1.8946083409178296\n",
      "Wall time: 26.2 s\n"
     ]
    }
   ],
   "source": [
    "%%time\n",
    "# init_par = np.array([mu, theta, sigma, kappa, rho]) + np.random.normal(0,.01,5)\n",
    "# init_par = np.random.normal(0,.01,5)\n",
    "\n",
    "init_par = (np.random.uniform(.05,.95), #mu\n",
    "            np.random.uniform(.5,5),    #theta\n",
    "            np.random.uniform(.05,.95), #sigma\n",
    "            np.random.uniform(.5,5),    #kappa\n",
    "            np.random.uniform(-.9,-.1)) #rho\n",
    "\n",
    "call_loss_function_to_optimize = partial(call_loss_function, S0=S0, K=K, T=T, r=r, v0=v0, market_price=call)\n",
    "\n",
    "res = minimize(call_loss_function_to_optimize, init_par, method='nelder-mead',\n",
    "              bounds = ((.05,.95),(.5,5),(.05,.95),(.5,5),(-.9,-.1)),\n",
    "               options={'xtol': 1e-10, 'disp': True})\n",
    "print('init par:', init_par)\n",
    "print('target:', np.array([mu, theta, sigma, kappa, rho]))\n",
    "print('result:',res.x)\n",
    "print('MSE init par vs target:', sm.mean_squared_error(init_par, np.array([mu, theta, sigma, kappa, rho])))\n",
    "print('MSE result vs target:', sm.mean_squared_error(res.x, np.array([mu, theta, sigma, kappa, rho])))"
   ]
  },
  {
   "cell_type": "code",
   "execution_count": 94,
   "metadata": {},
   "outputs": [
    {
     "data": {
      "image/png": "[encoded data removed]",
      "text/latex": [
       "$$34.940289639390954$$"
      ],
      "text/plain": [
       "34.940289639390954"
      ]
     },
     "execution_count": 94,
     "metadata": {},
     "output_type": "execute_result"
    }
   ],
   "source": [
    "call_price(S0, K, T, r, v0, par=res.x)"
   ]
  },
  {
   "cell_type": "code",
   "execution_count": 93,
   "metadata": {},
   "outputs": [
    {
     "name": "stdout",
     "output_type": "stream",
     "text": [
      "76.38166980972447\n"
     ]
    }
   ],
   "source": [
    "cf_Heston_schoutens_valuation = partial(cf_Heston_schoutens, t=T, v0=v0, mu=res.x[0], theta=res.x[1], sigma=res.x[2], kappa=res.x[3], rho=res.x[4]) \n",
    "call = S0 * Q1(k, cf_Heston_schoutens_valuation, limit_max) - K * np.exp(-r*T)* Q2(k, cf_Heston_schoutens_valuation, limit_max)\n",
    "print(call)"
   ]
  },
  {
   "cell_type": "code",
   "execution_count": null,
   "metadata": {},
   "outputs": [],
   "source": []
  },
  {
   "cell_type": "code",
   "execution_count": 88,
   "metadata": {},
   "outputs": [
    {
     "data": {
      "text/plain": [
       "array([ 0.05,  0.1 ,  0.25,  3.  , -0.8 ])"
      ]
     },
     "execution_count": 88,
     "metadata": {},
     "output_type": "execute_result"
    }
   ],
   "source": [
    "np.array([mu, theta, sigma, kappa, rho])"
   ]
  },
  {
   "cell_type": "code",
   "execution_count": 47,
   "metadata": {},
   "outputs": [
    {
     "name": "stdout",
     "output_type": "stream",
     "text": [
      "1.3092069719845903e-06\n",
      "0.0006519744719196647\n"
     ]
    }
   ],
   "source": [
    "print(sm.mean_squared_error(init_par, np.array([mu, theta, sigma, kappa, rho])))\n",
    "print(sm.mean_squared_error(res.x, np.array([mu, theta, sigma, kappa, rho])))"
   ]
  }
 ],
 "metadata": {
  "kernelspec": {
   "display_name": "Python 3",
   "language": "python",
   "name": "python3"
  },
  "language_info": {
   "codemirror_mode": {
    "name": "ipython",
    "version": 3
   },
   "file_extension": ".py",
   "mimetype": "text/x-python",
   "name": "python",
   "nbconvert_exporter": "python",
   "pygments_lexer": "ipython3",
   "version": "3.7.4"
  },
  "latex_envs": {
   "LaTeX_envs_menu_present": true,
   "autoclose": false,
   "autocomplete": true,
   "bibliofile": "biblio.bib",
   "cite_by": "apalike",
   "current_citInitial": 1,
   "eqLabelWithNumbers": true,
   "eqNumInitial": 1,
   "hotkeys": {
    "equation": "Ctrl-E",
    "itemize": "Ctrl-I"
   },
   "labels_anchors": false,
   "latex_user_defs": false,
   "report_style_numbering": false,
   "user_envs_cfg": false
  },
  "toc": {
   "base_numbering": 1,
   "nav_menu": {},
   "number_sections": true,
   "sideBar": true,
   "skip_h1_title": false,
   "title_cell": "Table of Contents",
   "title_sidebar": "Contents",
   "toc_cell": false,
   "toc_position": {},
   "toc_section_display": true,
   "toc_window_display": false
  }
 },
 "nbformat": 4,
 "nbformat_minor": 2
}
