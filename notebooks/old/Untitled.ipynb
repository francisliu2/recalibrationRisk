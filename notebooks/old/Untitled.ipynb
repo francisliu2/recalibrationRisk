{
 "cells": [
  {
   "cell_type": "code",
   "execution_count": 1,
   "metadata": {},
   "outputs": [],
   "source": [
    "import numpy as np\n",
    "import scipy as scp\n",
    "import scipy.stats as ss\n",
    "import sklearn.metrics as sm\n",
    "\n",
    "from scipy.integrate import quad\n",
    "\n",
    "import matplotlib.pyplot as plt\n",
    "import scipy.special as scps\n",
    "from statsmodels.graphics.gofplots import qqplot\n",
    "from scipy.linalg import cholesky\n",
    "from functools import partial\n",
    "from scipy.optimize import minimize, brute, fmin\n",
    "from IPython.display import display\n",
    "import sympy; sympy.init_printing()\n",
    "\n",
    "\n",
    "def display_matrix(m):\n",
    "    display(sympy.Matrix(m))"
   ]
  },
  {
   "cell_type": "code",
   "execution_count": 2,
   "metadata": {},
   "outputs": [],
   "source": [
    "def cf_Heston_schoutens(u, t, v0, mu, kappa, theta, rho, sigma):\n",
    "    \"\"\"\n",
    "    Heston characteristic function as proposed by Schoutens (2004)\n",
    "    \"\"\"\n",
    "    xi = kappa - sigma*rho*u*1j\n",
    "    d = np.sqrt( xi**2 + sigma**2 * (u**2 + 1j*u) )\n",
    "    g1 = (xi+d)/(xi-d)\n",
    "    g2 = 1/g1\n",
    "    cf = np.exp( 1j*u*mu*t + (kappa*theta)/(sigma**2) * ( (xi-d)*t - 2*np.log( (1-g2*np.exp(-d*t))/(1-g2) ))\\\n",
    "              + (v0/sigma**2)*(xi-d) * (1-np.exp(-d*t))/(1-g2*np.exp(-d*t)) )\n",
    "    return cf"
   ]
  },
  {
   "cell_type": "code",
   "execution_count": 3,
   "metadata": {},
   "outputs": [],
   "source": [
    "def Q1(k, cf, right_lim):\n",
    "    \"\"\"\n",
    "    P(X<k) - Probability to be in the money under the stock numeraire.\n",
    "    cf: characteristic function\n",
    "    right_lim: right limit of integration\n",
    "    \"\"\"\n",
    "    integrand = lambda u: np.real( (np.exp(-u*k*1j) / (u*1j)) * \n",
    "                                  cf(u-1j) / cf(-1.0000000000001j) )  \n",
    "    return 1/2 + 1/np.pi * quad(integrand, 1e-15, right_lim, limit=500 )[0]\n",
    "\n",
    "def Q2(k, cf, right_lim):\n",
    "    \"\"\"\n",
    "    P(X<k) - Probability to be in the money under the money market numeraire\n",
    "    cf: characteristic function\n",
    "    right_lim: right limit of integration\n",
    "    \"\"\"\n",
    "    integrand = lambda u: np.real( np.exp(-u*k*1j) /(u*1j) * cf(u) )\n",
    "    return 1/2 + 1/np.pi * quad(integrand, 1e-15, right_lim, limit=500 )[0]\n"
   ]
  },
  {
   "cell_type": "code",
   "execution_count": 4,
   "metadata": {},
   "outputs": [
    {
     "name": "stdout",
     "output_type": "stream",
     "text": [
      "65.27786862734618\n"
     ]
    }
   ],
   "source": [
    "mu = 0.05                                          # drift\n",
    "rho = -0.8                                         # correlation coefficient\n",
    "kappa = 3                                          # mean reversion coefficient\n",
    "theta = 0.1                                        # long-term mean of the variance\n",
    "sigma = 0.25                                       # (Vol of Vol) - Volatility of instantaneous variance\n",
    "T = 15                                             # Time to mat\n",
    "r = 0.05                                           # risk-free rate\n",
    "K = 100                                            # Stike  \n",
    "v0 = 0.08                                          # spot variance\n",
    "S0 = 100                                           # spot stock price \n",
    "k = np.log(K/S0) \n",
    "\n",
    "par = (mu, theta, sigma, kappa, rho)\n",
    "\n",
    "cf_Heston_schoutens_valuation = partial(cf_Heston_schoutens, t=T, v0=v0, mu=mu, theta=theta, sigma=sigma, kappa=kappa, rho=rho) \n",
    "\n",
    "limit_max = 1000      # right limit in the integration                \n",
    "call = S0 * Q1(k, cf_Heston_schoutens_valuation, limit_max) - K * np.exp(-r*T)* Q2(k, cf_Heston_schoutens_valuation, limit_max)\n",
    "print(call)"
   ]
  },
  {
   "cell_type": "code",
   "execution_count": 5,
   "metadata": {},
   "outputs": [],
   "source": [
    "def call_price(S0, K, T, v0, r, par): #BUGGY\n",
    "    limit_max = 1000\n",
    "    mu, theta, sigma, kappa, rho = par\n",
    "    cf_Heston_schoutens_valuation = partial(cf_Heston_schoutens, t=T, v0=v0, mu=mu, theta=theta, sigma=sigma, kappa=kappa, rho=rho) \n",
    "    model_price = S0 * Q1(k, cf_Heston_schoutens_valuation, limit_max) - K * np.exp(-r*T) * Q2(k, cf_Heston_schoutens_valuation, limit_max)\n",
    "    return model_price"
   ]
  },
  {
   "cell_type": "code",
   "execution_count": 13,
   "metadata": {},
   "outputs": [
    {
     "data": {
      "image/png": "[encoded data removed]",
      "text/latex": [
       "$$65.27786862734618$$"
      ],
      "text/plain": [
       "65.27786862734618"
      ]
     },
     "execution_count": 13,
     "metadata": {},
     "output_type": "execute_result"
    }
   ],
   "source": [
    "call_price(S0=S0, K=K, T=T, v0=v0, r=r, par=par)"
   ]
  },
  {
   "cell_type": "code",
   "execution_count": 59,
   "metadata": {},
   "outputs": [],
   "source": [
    "def call_loss_function(par, verbose = 1, **kwargs):    \n",
    "    global i \n",
    "    mu, theta, sigma, kappa, rho = par\n",
    "    \n",
    "    # Parse parameters from **kwargs\n",
    "    S0 = kwargs['S0']\n",
    "    K =  kwargs['K']\n",
    "    T =  kwargs['T']\n",
    "    r =  kwargs['r']\n",
    "    v0 = kwargs['v0']\n",
    "    market_price = kwargs['market_price']\n",
    "    \n",
    "    # log of strike price divided by S0\n",
    "    k = np.log(K/S0)\n",
    "    \n",
    "    try:\n",
    "        limit_max = kwargs['limit_max']\n",
    "    except:\n",
    "        limit_max = 1000\n",
    "    \n",
    "    cf_Heston_schoutens_valuation = partial(cf_Heston_schoutens, t=T, v0=v0, mu=mu, theta=theta, sigma=sigma, kappa=kappa, rho=rho) \n",
    "    \n",
    "    model_price = S0 * Q1(k, cf_Heston_schoutens_valuation, limit_max) \\\n",
    "                        - K * np.exp(-r*T) * Q2(k, cf_Heston_schoutens_valuation, limit_max)\n",
    "    \n",
    "    # Absolute difference between market and model price\n",
    "    loss = np.abs((market_price - model_price))    \n",
    " \n",
    "    if verbose == 1:\n",
    "        if i==0:\n",
    "            print('  mu      theta   sigma   kappa    rho    loss')\n",
    "        if i % 25 == 0:\n",
    "            print('%7.3f %7.3f %7.3f %7.3f %7.3f' %(mu, theta, sigma, kappa, rho), '%7.3f' %loss)\n",
    "   \n",
    "    i+=1\n",
    "    \n",
    "    return loss"
   ]
  },
  {
   "cell_type": "code",
   "execution_count": 49,
   "metadata": {},
   "outputs": [],
   "source": [
    "i=0"
   ]
  },
  {
   "cell_type": "code",
   "execution_count": 60,
   "metadata": {},
   "outputs": [
    {
     "name": "stdout",
     "output_type": "stream",
     "text": [
      "Call Price from equation 1: 65.27786862734618\n",
      "Call Price from equation 2: 65.27786862734618\n",
      "  mu      theta   sigma   kappa    rho    loss\n",
      "  0.050   0.100   0.250   3.000  -0.800   0.000\n",
      "loss: 0.0\n"
     ]
    }
   ],
   "source": [
    "i=0\n",
    "# mu, theta, sigma, kappa, rho\n",
    "mu = 0.05                                          # drift\n",
    "theta = 0.1                                        # long-term mean of the variance\n",
    "sigma = 0.25                                       # (Vol of Vol) - Volatility of instantaneous variance\n",
    "kappa = 3                                          # mean reversion coefficient\n",
    "rho = -0.8                                         # correlation coefficient\n",
    "T = 15                                             # Time to mat\n",
    "r = 0.05                                           # risk-free rate\n",
    "K = 100                                            # Stike  \n",
    "v0 = 0.08                                          # spot variance\n",
    "S0 = 100                                           # spot stock price \n",
    "k = np.log(K/S0) \n",
    "\n",
    "# Check if the prices match\n",
    "limit_max = 1000      # right limit in the integration                \n",
    "call = S0 * Q1(k, cf_Heston_schoutens_valuation, limit_max) - K * np.exp(-r*T)* Q2(k, cf_Heston_schoutens_valuation, limit_max)\n",
    "print('Call Price from equation 1:',call)\n",
    "\n",
    "par = (mu, theta, sigma, kappa, rho)\n",
    "x = call_price(S0=S0, K=K, T=T, v0=v0, r=r, par=par)\n",
    "print('Call Price from equation 2:',x)\n",
    "\n",
    "loss = call_loss_function(par, S0=S0, K=K, T=T, r=r, v0=v0, market_price=call)\n",
    "print('loss:',loss)"
   ]
  },
  {
   "cell_type": "code",
   "execution_count": 61,
   "metadata": {
    "scrolled": false
   },
   "outputs": [
    {
     "name": "stderr",
     "output_type": "stream",
     "text": [
      "C:\\Users\\user\\Anaconda3\\lib\\site-packages\\scipy\\optimize\\_minimize.py:518: RuntimeWarning: Method nelder-mead cannot handle constraints nor bounds.\n",
      "  RuntimeWarning)\n"
     ]
    },
    {
     "name": "stdout",
     "output_type": "stream",
     "text": [
      "  mu      theta   sigma   kappa    rho    loss\n",
      "  0.305   2.054   0.854   4.788  -0.443  11.086\n",
      "  0.274   2.019   0.941   4.888  -0.476  11.077\n",
      "  0.165   1.832   1.026   5.378  -0.687  10.984\n",
      "  0.106   1.751   1.106   5.925  -0.784  10.852\n",
      "  0.072   1.696   1.198   6.443  -0.862  10.714\n",
      " -0.012   1.560   1.416   7.765  -1.040  33.114\n",
      " -0.101   1.418   1.747   9.427  -1.230  31.093\n",
      " -0.113   1.399   1.797   9.668  -1.257   7.272\n",
      " -0.129   1.371   1.855   9.950  -1.293   6.459\n",
      " -0.151   1.334   1.948  10.378  -1.343   5.074\n",
      " -0.183   1.278   2.062  10.910  -1.414  25.857\n",
      " -0.191   1.261   2.068  10.961  -1.433   1.571\n",
      " -0.207   1.228   2.084  11.082  -1.473  23.061\n",
      " -0.204   1.234   2.080  11.055  -1.466   0.017\n",
      " -0.204   1.234   2.082  11.062  -1.465   0.002\n",
      " -0.204   1.234   2.081  11.060  -1.465   0.001\n",
      " -0.204   1.234   2.081  11.060  -1.465   0.000\n",
      " -0.204   1.234   2.081  11.060  -1.465   0.000\n",
      " -0.204   1.234   2.081  11.060  -1.465   0.000\n",
      " -0.204   1.234   2.081  11.060  -1.465   0.000\n",
      " -0.204   1.234   2.081  11.060  -1.465   0.000\n",
      " -0.204   1.234   2.081  11.060  -1.465   0.000\n",
      " -0.204   1.234   2.081  11.060  -1.465   0.000\n",
      " -0.204   1.234   2.081  11.060  -1.465   0.000\n",
      " -0.204   1.234   2.081  11.060  -1.465   0.000\n",
      "Optimization terminated successfully.\n",
      "         Current function value: 0.000000\n",
      "         Iterations: 327\n",
      "         Function evaluations: 615\n",
      "init par: [0.3052726023190313, 2.0539565133185675, 0.8538346868701956, 4.787682944737378, -0.4434616300196382]\n",
      "target: [ 0.05  0.1   0.25  3.   -0.8 ]\n",
      "result: [-0.20350828  1.23407363  2.08125648 11.06029405 -1.46530072]\n",
      "MSE init par vs target: 1.5141312813351135\n",
      "MSE result vs target: 14.022970977267864\n",
      "Wall time: 21.1 s\n"
     ]
    }
   ],
   "source": [
    "%%time\n",
    "i=0\n",
    "# init_par = np.array([mu, theta, sigma, kappa, rho]) + np.random.normal(0,.01,5)\n",
    "# init_par = np.random.normal(0,.01,5)\n",
    "\n",
    "init_par = (np.random.uniform(.05,.95), #mu\n",
    "            np.random.uniform(.5,5),    #theta\n",
    "            np.random.uniform(.05,.95), #sigma\n",
    "            np.random.uniform(.5,5),    #kappa\n",
    "            np.random.uniform(-.9,-.1)) #rho\n",
    "\n",
    "call_loss_function_to_optimize = partial(call_loss_function, S0=S0, K=K, T=T, r=r, v0=v0, market_price=call)\n",
    "\n",
    "res = minimize(call_loss_function_to_optimize, init_par, method='nelder-mead',\n",
    "              bounds = ((.05,.95),(.5,5),(.05,.95),(.5,5),(-.9,-.1)),\n",
    "               options={'xtol': 1e-10, 'disp': True})\n",
    "print('init par:', list(init_par))\n",
    "print('target:', np.array([mu, theta, sigma, kappa, rho]))\n",
    "print('result:',res.x)\n",
    "print('MSE init par vs target:', sm.mean_squared_error(init_par, np.array([mu, theta, sigma, kappa, rho])))\n",
    "print('MSE result vs target:', sm.mean_squared_error(res.x, np.array([mu, theta, sigma, kappa, rho])))"
   ]
  },
  {
   "cell_type": "code",
   "execution_count": 62,
   "metadata": {},
   "outputs": [
    {
     "data": {
      "image/png": "[encoded data removed]",
      "text/latex": [
       "$$65.2778686273338$$"
      ],
      "text/plain": [
       "65.2778686273338"
      ]
     },
     "execution_count": 62,
     "metadata": {},
     "output_type": "execute_result"
    }
   ],
   "source": [
    "call_price(S0=S0, K=K, T=T, v0=v0, r=r, par=res.x)"
   ]
  },
  {
   "cell_type": "code",
   "execution_count": 42,
   "metadata": {},
   "outputs": [
    {
     "name": "stderr",
     "output_type": "stream",
     "text": [
      "C:\\Users\\user\\Anaconda3\\lib\\site-packages\\ipykernel_launcher.py:7: RuntimeWarning: divide by zero encountered in cdouble_scalars\n",
      "  import sys\n",
      "C:\\Users\\user\\Anaconda3\\lib\\site-packages\\ipykernel_launcher.py:7: RuntimeWarning: invalid value encountered in cdouble_scalars\n",
      "  import sys\n",
      "C:\\Users\\user\\Anaconda3\\lib\\site-packages\\ipykernel_launcher.py:8: RuntimeWarning: invalid value encountered in cdouble_scalars\n",
      "  \n",
      "C:\\Users\\user\\Anaconda3\\lib\\site-packages\\ipykernel_launcher.py:9: RuntimeWarning: invalid value encountered in cdouble_scalars\n",
      "  if __name__ == '__main__':\n",
      "C:\\Users\\user\\Anaconda3\\lib\\site-packages\\ipykernel_launcher.py:9: RuntimeWarning: invalid value encountered in log\n",
      "  if __name__ == '__main__':\n",
      "C:\\Users\\user\\Anaconda3\\lib\\site-packages\\scipy\\integrate\\quadpack.py:385: IntegrationWarning: The occurrence of roundoff error is detected, which prevents \n",
      "  the requested tolerance from being achieved.  The error may be \n",
      "  underestimated.\n",
      "  warnings.warn(msg, IntegrationWarning)\n"
     ]
    },
    {
     "ename": "ValueError",
     "evalue": "cannot convert float NaN to integer",
     "output_type": "error",
     "traceback": [
      "\u001b[1;31m---------------------------------------------------------------------------\u001b[0m",
      "\u001b[1;31mValueError\u001b[0m                                Traceback (most recent call last)",
      "\u001b[1;32m<ipython-input-42-ee723d5283b9>\u001b[0m in \u001b[0;36m<module>\u001b[1;34m()\u001b[0m\n\u001b[0;32m     21\u001b[0m                \u001b[1;33m(\u001b[0m\u001b[1;33m-\u001b[0m\u001b[1;36m0.75\u001b[0m\u001b[1;33m,\u001b[0m \u001b[1;36m0.01\u001b[0m\u001b[1;33m,\u001b[0m \u001b[1;36m0.25\u001b[0m\u001b[1;33m)\u001b[0m  \u001b[1;31m#rho\u001b[0m\u001b[1;33m\u001b[0m\u001b[0m\n\u001b[0;32m     22\u001b[0m            ),\n\u001b[1;32m---> 23\u001b[1;33m            finish=None)\n\u001b[0m\u001b[0;32m     24\u001b[0m \u001b[1;33m\u001b[0m\u001b[0m\n\u001b[0;32m     25\u001b[0m \u001b[1;31m# second run with local, convex minimization\u001b[0m\u001b[1;33m\u001b[0m\u001b[1;33m\u001b[0m\u001b[0m\n",
      "\u001b[1;32mC:\\Users\\user\\Anaconda3\\lib\\site-packages\\scipy\\optimize\\optimize.py\u001b[0m in \u001b[0;36mbrute\u001b[1;34m(func, ranges, args, Ns, full_output, finish, disp)\u001b[0m\n\u001b[0;32m   2829\u001b[0m     \u001b[1;32mif\u001b[0m \u001b[1;33m(\u001b[0m\u001b[0mN\u001b[0m \u001b[1;33m==\u001b[0m \u001b[1;36m1\u001b[0m\u001b[1;33m)\u001b[0m\u001b[1;33m:\u001b[0m\u001b[1;33m\u001b[0m\u001b[0m\n\u001b[0;32m   2830\u001b[0m         \u001b[0mgrid\u001b[0m \u001b[1;33m=\u001b[0m \u001b[1;33m(\u001b[0m\u001b[0mgrid\u001b[0m\u001b[1;33m,\u001b[0m\u001b[1;33m)\u001b[0m\u001b[1;33m\u001b[0m\u001b[0m\n\u001b[1;32m-> 2831\u001b[1;33m     \u001b[0mJout\u001b[0m \u001b[1;33m=\u001b[0m \u001b[0mvecfunc\u001b[0m\u001b[1;33m(\u001b[0m\u001b[1;33m*\u001b[0m\u001b[0mgrid\u001b[0m\u001b[1;33m)\u001b[0m\u001b[1;33m\u001b[0m\u001b[0m\n\u001b[0m\u001b[0;32m   2832\u001b[0m     \u001b[0mNshape\u001b[0m \u001b[1;33m=\u001b[0m \u001b[0mshape\u001b[0m\u001b[1;33m(\u001b[0m\u001b[0mJout\u001b[0m\u001b[1;33m)\u001b[0m\u001b[1;33m\u001b[0m\u001b[0m\n\u001b[0;32m   2833\u001b[0m     \u001b[0mindx\u001b[0m \u001b[1;33m=\u001b[0m \u001b[0margmin\u001b[0m\u001b[1;33m(\u001b[0m\u001b[0mJout\u001b[0m\u001b[1;33m.\u001b[0m\u001b[0mravel\u001b[0m\u001b[1;33m(\u001b[0m\u001b[1;33m)\u001b[0m\u001b[1;33m,\u001b[0m \u001b[0maxis\u001b[0m\u001b[1;33m=\u001b[0m\u001b[1;33m-\u001b[0m\u001b[1;36m1\u001b[0m\u001b[1;33m)\u001b[0m\u001b[1;33m\u001b[0m\u001b[0m\n",
      "\u001b[1;32mC:\\Users\\user\\AppData\\Roaming\\Python\\Python36\\site-packages\\numpy\\lib\\function_base.py\u001b[0m in \u001b[0;36m__call__\u001b[1;34m(self, *args, **kwargs)\u001b[0m\n\u001b[0;32m   1970\u001b[0m             \u001b[0mvargs\u001b[0m\u001b[1;33m.\u001b[0m\u001b[0mextend\u001b[0m\u001b[1;33m(\u001b[0m\u001b[1;33m[\u001b[0m\u001b[0mkwargs\u001b[0m\u001b[1;33m[\u001b[0m\u001b[0m_n\u001b[0m\u001b[1;33m]\u001b[0m \u001b[1;32mfor\u001b[0m \u001b[0m_n\u001b[0m \u001b[1;32min\u001b[0m \u001b[0mnames\u001b[0m\u001b[1;33m]\u001b[0m\u001b[1;33m)\u001b[0m\u001b[1;33m\u001b[0m\u001b[0m\n\u001b[0;32m   1971\u001b[0m \u001b[1;33m\u001b[0m\u001b[0m\n\u001b[1;32m-> 1972\u001b[1;33m         \u001b[1;32mreturn\u001b[0m \u001b[0mself\u001b[0m\u001b[1;33m.\u001b[0m\u001b[0m_vectorize_call\u001b[0m\u001b[1;33m(\u001b[0m\u001b[0mfunc\u001b[0m\u001b[1;33m=\u001b[0m\u001b[0mfunc\u001b[0m\u001b[1;33m,\u001b[0m \u001b[0margs\u001b[0m\u001b[1;33m=\u001b[0m\u001b[0mvargs\u001b[0m\u001b[1;33m)\u001b[0m\u001b[1;33m\u001b[0m\u001b[0m\n\u001b[0m\u001b[0;32m   1973\u001b[0m \u001b[1;33m\u001b[0m\u001b[0m\n\u001b[0;32m   1974\u001b[0m     \u001b[1;32mdef\u001b[0m \u001b[0m_get_ufunc_and_otypes\u001b[0m\u001b[1;33m(\u001b[0m\u001b[0mself\u001b[0m\u001b[1;33m,\u001b[0m \u001b[0mfunc\u001b[0m\u001b[1;33m,\u001b[0m \u001b[0margs\u001b[0m\u001b[1;33m)\u001b[0m\u001b[1;33m:\u001b[0m\u001b[1;33m\u001b[0m\u001b[0m\n",
      "\u001b[1;32mC:\\Users\\user\\AppData\\Roaming\\Python\\Python36\\site-packages\\numpy\\lib\\function_base.py\u001b[0m in \u001b[0;36m_vectorize_call\u001b[1;34m(self, func, args)\u001b[0m\n\u001b[0;32m   2046\u001b[0m                       for a in args]\n\u001b[0;32m   2047\u001b[0m \u001b[1;33m\u001b[0m\u001b[0m\n\u001b[1;32m-> 2048\u001b[1;33m             \u001b[0moutputs\u001b[0m \u001b[1;33m=\u001b[0m \u001b[0mufunc\u001b[0m\u001b[1;33m(\u001b[0m\u001b[1;33m*\u001b[0m\u001b[0minputs\u001b[0m\u001b[1;33m)\u001b[0m\u001b[1;33m\u001b[0m\u001b[0m\n\u001b[0m\u001b[0;32m   2049\u001b[0m \u001b[1;33m\u001b[0m\u001b[0m\n\u001b[0;32m   2050\u001b[0m             \u001b[1;32mif\u001b[0m \u001b[0mufunc\u001b[0m\u001b[1;33m.\u001b[0m\u001b[0mnout\u001b[0m \u001b[1;33m==\u001b[0m \u001b[1;36m1\u001b[0m\u001b[1;33m:\u001b[0m\u001b[1;33m\u001b[0m\u001b[0m\n",
      "\u001b[1;32mC:\\Users\\user\\Anaconda3\\lib\\site-packages\\scipy\\optimize\\optimize.py\u001b[0m in \u001b[0;36m_scalarfunc\u001b[1;34m(*params)\u001b[0m\n\u001b[0;32m   2823\u001b[0m     \u001b[1;32mdef\u001b[0m \u001b[0m_scalarfunc\u001b[0m\u001b[1;33m(\u001b[0m\u001b[1;33m*\u001b[0m\u001b[0mparams\u001b[0m\u001b[1;33m)\u001b[0m\u001b[1;33m:\u001b[0m\u001b[1;33m\u001b[0m\u001b[0m\n\u001b[0;32m   2824\u001b[0m         \u001b[0mparams\u001b[0m \u001b[1;33m=\u001b[0m \u001b[0masarray\u001b[0m\u001b[1;33m(\u001b[0m\u001b[0mparams\u001b[0m\u001b[1;33m)\u001b[0m\u001b[1;33m.\u001b[0m\u001b[0mflatten\u001b[0m\u001b[1;33m(\u001b[0m\u001b[1;33m)\u001b[0m\u001b[1;33m\u001b[0m\u001b[0m\n\u001b[1;32m-> 2825\u001b[1;33m         \u001b[1;32mreturn\u001b[0m \u001b[0mfunc\u001b[0m\u001b[1;33m(\u001b[0m\u001b[0mparams\u001b[0m\u001b[1;33m,\u001b[0m \u001b[1;33m*\u001b[0m\u001b[0margs\u001b[0m\u001b[1;33m)\u001b[0m\u001b[1;33m\u001b[0m\u001b[0m\n\u001b[0m\u001b[0;32m   2826\u001b[0m \u001b[1;33m\u001b[0m\u001b[0m\n\u001b[0;32m   2827\u001b[0m     \u001b[0mvecfunc\u001b[0m \u001b[1;33m=\u001b[0m \u001b[0mvectorize\u001b[0m\u001b[1;33m(\u001b[0m\u001b[0m_scalarfunc\u001b[0m\u001b[1;33m)\u001b[0m\u001b[1;33m\u001b[0m\u001b[0m\n",
      "\u001b[1;32m<ipython-input-39-1d43463e9f75>\u001b[0m in \u001b[0;36mcall_loss_function\u001b[1;34m(par, verbose, **kwargs)\u001b[0m\n\u001b[0;32m     33\u001b[0m             \u001b[0mprint\u001b[0m\u001b[1;33m(\u001b[0m\u001b[1;34m'mu    theta    sigma    kappa    rho    loss'\u001b[0m\u001b[1;33m)\u001b[0m\u001b[1;33m\u001b[0m\u001b[0m\n\u001b[0;32m     34\u001b[0m         \u001b[1;32mif\u001b[0m \u001b[0mi\u001b[0m \u001b[1;33m%\u001b[0m \u001b[1;36m25\u001b[0m \u001b[1;33m==\u001b[0m \u001b[1;36m0\u001b[0m\u001b[1;33m:\u001b[0m\u001b[1;33m\u001b[0m\u001b[0m\n\u001b[1;32m---> 35\u001b[1;33m             \u001b[0mprint\u001b[0m\u001b[1;33m(\u001b[0m\u001b[1;34m'%4d %4d %4d %4d %4d'\u001b[0m \u001b[1;33m%\u001b[0m\u001b[1;33m(\u001b[0m\u001b[0mmu\u001b[0m\u001b[1;33m,\u001b[0m \u001b[0mtheta\u001b[0m\u001b[1;33m,\u001b[0m \u001b[0msigma\u001b[0m\u001b[1;33m,\u001b[0m \u001b[0mkappa\u001b[0m\u001b[1;33m,\u001b[0m \u001b[0mrho\u001b[0m\u001b[1;33m)\u001b[0m\u001b[1;33m,\u001b[0m \u001b[1;34m'%4d'\u001b[0m \u001b[1;33m%\u001b[0m\u001b[0mloss\u001b[0m\u001b[1;33m)\u001b[0m\u001b[1;33m\u001b[0m\u001b[0m\n\u001b[0m\u001b[0;32m     36\u001b[0m \u001b[1;33m\u001b[0m\u001b[0m\n\u001b[0;32m     37\u001b[0m     \u001b[1;32mreturn\u001b[0m \u001b[0mloss\u001b[0m\u001b[1;33m\u001b[0m\u001b[0m\n",
      "\u001b[1;31mValueError\u001b[0m: cannot convert float NaN to integer"
     ]
    }
   ],
   "source": [
    "init_par = (np.random.uniform(.05,.95), #mu\n",
    "            np.random.uniform(.5,5),    #theta\n",
    "            np.random.uniform(.05,.95), #sigma\n",
    "            np.random.uniform(.5,5),    #kappa\n",
    "            np.random.uniform(-.9,-.1)) #rho\n",
    "\n",
    "# p0 = brute(call_loss_function_to_optimize,\n",
    "#            ((2.5, 10.6, 5.0),  # kappa_v\n",
    "#             (0.01, 0.041, 0.01),  # theta_v\n",
    "#             (0.05, 0.251, 0.1),  # sigma_v\n",
    "#             (-0.75, 0.01, 0.25),  # rho\n",
    "#             (0.01, 0.031, 0.01)),  # v0\n",
    "#            finish=None)\n",
    "\n",
    "p0 = brute(call_loss_function_to_optimize,\n",
    "           (\n",
    "               (0.01, 0.031, 0.01), #mu\n",
    "               (0.01, 0.041, 0.01), #theta\n",
    "               (0.05, 0.251, 0.1),  #sigma\n",
    "               (2.5, 10.6, 5.0),    #kappa\n",
    "               (-0.75, 0.01, 0.25)  #rho\n",
    "           ),\n",
    "           finish=None)\n",
    "\n",
    "# second run with local, convex minimization\n",
    "# (dig deeper where promising)\n",
    "opt = fmin(call_loss_function_to_optimize, p0,\n",
    "           xtol=0.000001, ftol=0.000001,\n",
    "           maxiter=750, maxfun=900)"
   ]
  },
  {
   "cell_type": "code",
   "execution_count": 29,
   "metadata": {},
   "outputs": [
    {
     "ename": "TypeError",
     "evalue": "call_price() missing 5 required positional arguments: 'K', 'T', 'v0', 'r', and 'par'",
     "output_type": "error",
     "traceback": [
      "\u001b[1;31m---------------------------------------------------------------------------\u001b[0m",
      "\u001b[1;31mTypeError\u001b[0m                                 Traceback (most recent call last)",
      "\u001b[1;32m<ipython-input-29-e0d43793a811>\u001b[0m in \u001b[0;36m<module>\u001b[1;34m()\u001b[0m\n\u001b[1;32m----> 1\u001b[1;33m \u001b[0mcall_price\u001b[0m\u001b[1;33m(\u001b[0m\u001b[0mopt\u001b[0m\u001b[1;33m)\u001b[0m\u001b[1;33m\u001b[0m\u001b[0m\n\u001b[0m",
      "\u001b[1;31mTypeError\u001b[0m: call_price() missing 5 required positional arguments: 'K', 'T', 'v0', 'r', and 'par'"
     ]
    }
   ],
   "source": [
    "call_price(opt)"
   ]
  }
 ],
 "metadata": {
  "kernelspec": {
   "display_name": "Python 3",
   "language": "python",
   "name": "python3"
  },
  "language_info": {
   "codemirror_mode": {
    "name": "ipython",
    "version": 3
   },
   "file_extension": ".py",
   "mimetype": "text/x-python",
   "name": "python",
   "nbconvert_exporter": "python",
   "pygments_lexer": "ipython3",
   "version": "3.7.4"
  },
  "latex_envs": {
   "LaTeX_envs_menu_present": true,
   "autoclose": false,
   "autocomplete": true,
   "bibliofile": "biblio.bib",
   "cite_by": "apalike",
   "current_citInitial": 1,
   "eqLabelWithNumbers": true,
   "eqNumInitial": 1,
   "hotkeys": {
    "equation": "Ctrl-E",
    "itemize": "Ctrl-I"
   },
   "labels_anchors": false,
   "latex_user_defs": false,
   "report_style_numbering": false,
   "user_envs_cfg": false
  },
  "toc": {
   "base_numbering": 1,
   "nav_menu": {},
   "number_sections": true,
   "sideBar": true,
   "skip_h1_title": false,
   "title_cell": "Table of Contents",
   "title_sidebar": "Contents",
   "toc_cell": false,
   "toc_position": {},
   "toc_section_display": true,
   "toc_window_display": false
  }
 },
 "nbformat": 4,
 "nbformat_minor": 2
}
